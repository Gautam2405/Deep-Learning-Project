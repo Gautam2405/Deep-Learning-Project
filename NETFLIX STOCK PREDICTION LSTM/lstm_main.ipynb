{
  "cells": [
    {
      "cell_type": "code",
      "execution_count": 89,
      "id": "776d30bd-9eb0-411b-8108-5051f3ca8063",
      "metadata": {
        "id": "776d30bd-9eb0-411b-8108-5051f3ca8063"
      },
      "outputs": [],
      "source": [
        "import pandas as pd\n",
        "import numpy\n",
        "from numpy import array\n",
        "import matplotlib.pyplot as plt\n",
        "from sklearn.preprocessing import MinMaxScaler\n",
        "import tensorflow as tf\n",
        "from tensorflow.keras.models import Sequential\n",
        "from tensorflow.keras.layers import Dense\n",
        "from tensorflow.keras.layers import LSTM\n",
        "from keras.optimizers import SGD\n",
        "import keras\n",
        "from tensorflow.keras.metrics import Precision, Recall\n",
        "from keras.callbacks import EarlyStopping\n",
        "from keras.models import Sequential\n",
        "from keras.layers import Embedding, Conv1D, MaxPooling1D, Bidirectional, LSTM, Dense, Dropout, SimpleRNN\n",
        "from keras import regularizers\n",
        "from tensorflow.keras.regularizers import l2\n",
        "\n",
        "\n",
        "\n",
        "\n",
        "import math\n",
        "from sklearn.metrics import mean_squared_error"
      ]
    },
    {
      "cell_type": "code",
      "execution_count": 1,
      "id": "922a292f-ba0e-4acd-b372-809570dee7b5",
      "metadata": {
        "id": "922a292f-ba0e-4acd-b372-809570dee7b5"
      },
      "outputs": [],
      "source": []
    },
    {
      "cell_type": "code",
      "execution_count": 3,
      "id": "d099e1f5-8f66-4100-826a-2868e43b5be9",
      "metadata": {
        "id": "d099e1f5-8f66-4100-826a-2868e43b5be9"
      },
      "outputs": [],
      "source": [
        "df=pd.read_csv('NFLX.csv')"
      ]
    },
    {
      "cell_type": "code",
      "execution_count": 4,
      "id": "193fa1d2-5630-488d-a084-2bb2b29750d0",
      "metadata": {
        "colab": {
          "base_uri": "https://localhost:8080/",
          "height": 634
        },
        "id": "193fa1d2-5630-488d-a084-2bb2b29750d0",
        "outputId": "b5d3cfa8-e173-4a3c-8857-881ad9c8c31b"
      },
      "outputs": [
        {
          "output_type": "execute_result",
          "data": {
            "text/plain": [
              "            Date        Open        High         Low       Close   Adj Close  \\\n",
              "0     2018-02-05  262.000000  267.899994  250.029999  254.259995  254.259995   \n",
              "1     2018-02-06  247.699997  266.700012  245.000000  265.720001  265.720001   \n",
              "2     2018-02-07  266.579987  272.450012  264.329987  264.559998  264.559998   \n",
              "3     2018-02-08  267.079987  267.619995  250.000000  250.100006  250.100006   \n",
              "4     2018-02-09  253.850006  255.800003  236.110001  249.470001  249.470001   \n",
              "...          ...         ...         ...         ...         ...         ...   \n",
              "1004  2022-01-31  401.970001  427.700012  398.200012  427.140015  427.140015   \n",
              "1005  2022-02-01  432.959991  458.480011  425.540009  457.130005  457.130005   \n",
              "1006  2022-02-02  448.250000  451.980011  426.480011  429.480011  429.480011   \n",
              "1007  2022-02-03  421.440002  429.260010  404.279999  405.600006  405.600006   \n",
              "1008  2022-02-04  407.309998  412.769989  396.640015  410.170013  410.170013   \n",
              "\n",
              "        Volume  \n",
              "0     11896100  \n",
              "1     12595800  \n",
              "2      8981500  \n",
              "3      9306700  \n",
              "4     16906900  \n",
              "...        ...  \n",
              "1004  20047500  \n",
              "1005  22542300  \n",
              "1006  14346000  \n",
              "1007   9905200  \n",
              "1008   7782400  \n",
              "\n",
              "[1009 rows x 7 columns]"
            ],
            "text/html": [
              "\n",
              "  <div id=\"df-ca4917db-5b1b-410a-8750-8c6fe29c57f0\" class=\"colab-df-container\">\n",
              "    <div>\n",
              "<style scoped>\n",
              "    .dataframe tbody tr th:only-of-type {\n",
              "        vertical-align: middle;\n",
              "    }\n",
              "\n",
              "    .dataframe tbody tr th {\n",
              "        vertical-align: top;\n",
              "    }\n",
              "\n",
              "    .dataframe thead th {\n",
              "        text-align: right;\n",
              "    }\n",
              "</style>\n",
              "<table border=\"1\" class=\"dataframe\">\n",
              "  <thead>\n",
              "    <tr style=\"text-align: right;\">\n",
              "      <th></th>\n",
              "      <th>Date</th>\n",
              "      <th>Open</th>\n",
              "      <th>High</th>\n",
              "      <th>Low</th>\n",
              "      <th>Close</th>\n",
              "      <th>Adj Close</th>\n",
              "      <th>Volume</th>\n",
              "    </tr>\n",
              "  </thead>\n",
              "  <tbody>\n",
              "    <tr>\n",
              "      <th>0</th>\n",
              "      <td>2018-02-05</td>\n",
              "      <td>262.000000</td>\n",
              "      <td>267.899994</td>\n",
              "      <td>250.029999</td>\n",
              "      <td>254.259995</td>\n",
              "      <td>254.259995</td>\n",
              "      <td>11896100</td>\n",
              "    </tr>\n",
              "    <tr>\n",
              "      <th>1</th>\n",
              "      <td>2018-02-06</td>\n",
              "      <td>247.699997</td>\n",
              "      <td>266.700012</td>\n",
              "      <td>245.000000</td>\n",
              "      <td>265.720001</td>\n",
              "      <td>265.720001</td>\n",
              "      <td>12595800</td>\n",
              "    </tr>\n",
              "    <tr>\n",
              "      <th>2</th>\n",
              "      <td>2018-02-07</td>\n",
              "      <td>266.579987</td>\n",
              "      <td>272.450012</td>\n",
              "      <td>264.329987</td>\n",
              "      <td>264.559998</td>\n",
              "      <td>264.559998</td>\n",
              "      <td>8981500</td>\n",
              "    </tr>\n",
              "    <tr>\n",
              "      <th>3</th>\n",
              "      <td>2018-02-08</td>\n",
              "      <td>267.079987</td>\n",
              "      <td>267.619995</td>\n",
              "      <td>250.000000</td>\n",
              "      <td>250.100006</td>\n",
              "      <td>250.100006</td>\n",
              "      <td>9306700</td>\n",
              "    </tr>\n",
              "    <tr>\n",
              "      <th>4</th>\n",
              "      <td>2018-02-09</td>\n",
              "      <td>253.850006</td>\n",
              "      <td>255.800003</td>\n",
              "      <td>236.110001</td>\n",
              "      <td>249.470001</td>\n",
              "      <td>249.470001</td>\n",
              "      <td>16906900</td>\n",
              "    </tr>\n",
              "    <tr>\n",
              "      <th>...</th>\n",
              "      <td>...</td>\n",
              "      <td>...</td>\n",
              "      <td>...</td>\n",
              "      <td>...</td>\n",
              "      <td>...</td>\n",
              "      <td>...</td>\n",
              "      <td>...</td>\n",
              "    </tr>\n",
              "    <tr>\n",
              "      <th>1004</th>\n",
              "      <td>2022-01-31</td>\n",
              "      <td>401.970001</td>\n",
              "      <td>427.700012</td>\n",
              "      <td>398.200012</td>\n",
              "      <td>427.140015</td>\n",
              "      <td>427.140015</td>\n",
              "      <td>20047500</td>\n",
              "    </tr>\n",
              "    <tr>\n",
              "      <th>1005</th>\n",
              "      <td>2022-02-01</td>\n",
              "      <td>432.959991</td>\n",
              "      <td>458.480011</td>\n",
              "      <td>425.540009</td>\n",
              "      <td>457.130005</td>\n",
              "      <td>457.130005</td>\n",
              "      <td>22542300</td>\n",
              "    </tr>\n",
              "    <tr>\n",
              "      <th>1006</th>\n",
              "      <td>2022-02-02</td>\n",
              "      <td>448.250000</td>\n",
              "      <td>451.980011</td>\n",
              "      <td>426.480011</td>\n",
              "      <td>429.480011</td>\n",
              "      <td>429.480011</td>\n",
              "      <td>14346000</td>\n",
              "    </tr>\n",
              "    <tr>\n",
              "      <th>1007</th>\n",
              "      <td>2022-02-03</td>\n",
              "      <td>421.440002</td>\n",
              "      <td>429.260010</td>\n",
              "      <td>404.279999</td>\n",
              "      <td>405.600006</td>\n",
              "      <td>405.600006</td>\n",
              "      <td>9905200</td>\n",
              "    </tr>\n",
              "    <tr>\n",
              "      <th>1008</th>\n",
              "      <td>2022-02-04</td>\n",
              "      <td>407.309998</td>\n",
              "      <td>412.769989</td>\n",
              "      <td>396.640015</td>\n",
              "      <td>410.170013</td>\n",
              "      <td>410.170013</td>\n",
              "      <td>7782400</td>\n",
              "    </tr>\n",
              "  </tbody>\n",
              "</table>\n",
              "<p>1009 rows × 7 columns</p>\n",
              "</div>\n",
              "    <div class=\"colab-df-buttons\">\n",
              "\n",
              "  <div class=\"colab-df-container\">\n",
              "    <button class=\"colab-df-convert\" onclick=\"convertToInteractive('df-ca4917db-5b1b-410a-8750-8c6fe29c57f0')\"\n",
              "            title=\"Convert this dataframe to an interactive table.\"\n",
              "            style=\"display:none;\">\n",
              "\n",
              "  <svg xmlns=\"http://www.w3.org/2000/svg\" height=\"24px\" viewBox=\"0 -960 960 960\">\n",
              "    <path d=\"M120-120v-720h720v720H120Zm60-500h600v-160H180v160Zm220 220h160v-160H400v160Zm0 220h160v-160H400v160ZM180-400h160v-160H180v160Zm440 0h160v-160H620v160ZM180-180h160v-160H180v160Zm440 0h160v-160H620v160Z\"/>\n",
              "  </svg>\n",
              "    </button>\n",
              "\n",
              "  <style>\n",
              "    .colab-df-container {\n",
              "      display:flex;\n",
              "      gap: 12px;\n",
              "    }\n",
              "\n",
              "    .colab-df-convert {\n",
              "      background-color: #E8F0FE;\n",
              "      border: none;\n",
              "      border-radius: 50%;\n",
              "      cursor: pointer;\n",
              "      display: none;\n",
              "      fill: #1967D2;\n",
              "      height: 32px;\n",
              "      padding: 0 0 0 0;\n",
              "      width: 32px;\n",
              "    }\n",
              "\n",
              "    .colab-df-convert:hover {\n",
              "      background-color: #E2EBFA;\n",
              "      box-shadow: 0px 1px 2px rgba(60, 64, 67, 0.3), 0px 1px 3px 1px rgba(60, 64, 67, 0.15);\n",
              "      fill: #174EA6;\n",
              "    }\n",
              "\n",
              "    .colab-df-buttons div {\n",
              "      margin-bottom: 4px;\n",
              "    }\n",
              "\n",
              "    [theme=dark] .colab-df-convert {\n",
              "      background-color: #3B4455;\n",
              "      fill: #D2E3FC;\n",
              "    }\n",
              "\n",
              "    [theme=dark] .colab-df-convert:hover {\n",
              "      background-color: #434B5C;\n",
              "      box-shadow: 0px 1px 3px 1px rgba(0, 0, 0, 0.15);\n",
              "      filter: drop-shadow(0px 1px 2px rgba(0, 0, 0, 0.3));\n",
              "      fill: #FFFFFF;\n",
              "    }\n",
              "  </style>\n",
              "\n",
              "    <script>\n",
              "      const buttonEl =\n",
              "        document.querySelector('#df-ca4917db-5b1b-410a-8750-8c6fe29c57f0 button.colab-df-convert');\n",
              "      buttonEl.style.display =\n",
              "        google.colab.kernel.accessAllowed ? 'block' : 'none';\n",
              "\n",
              "      async function convertToInteractive(key) {\n",
              "        const element = document.querySelector('#df-ca4917db-5b1b-410a-8750-8c6fe29c57f0');\n",
              "        const dataTable =\n",
              "          await google.colab.kernel.invokeFunction('convertToInteractive',\n",
              "                                                    [key], {});\n",
              "        if (!dataTable) return;\n",
              "\n",
              "        const docLinkHtml = 'Like what you see? Visit the ' +\n",
              "          '<a target=\"_blank\" href=https://colab.research.google.com/notebooks/data_table.ipynb>data table notebook</a>'\n",
              "          + ' to learn more about interactive tables.';\n",
              "        element.innerHTML = '';\n",
              "        dataTable['output_type'] = 'display_data';\n",
              "        await google.colab.output.renderOutput(dataTable, element);\n",
              "        const docLink = document.createElement('div');\n",
              "        docLink.innerHTML = docLinkHtml;\n",
              "        element.appendChild(docLink);\n",
              "      }\n",
              "    </script>\n",
              "  </div>\n",
              "\n",
              "\n",
              "<div id=\"df-f4e6feb5-4988-4550-bc37-746b86f98cc7\">\n",
              "  <button class=\"colab-df-quickchart\" onclick=\"quickchart('df-f4e6feb5-4988-4550-bc37-746b86f98cc7')\"\n",
              "            title=\"Suggest charts\"\n",
              "            style=\"display:none;\">\n",
              "\n",
              "<svg xmlns=\"http://www.w3.org/2000/svg\" height=\"24px\"viewBox=\"0 0 24 24\"\n",
              "     width=\"24px\">\n",
              "    <g>\n",
              "        <path d=\"M19 3H5c-1.1 0-2 .9-2 2v14c0 1.1.9 2 2 2h14c1.1 0 2-.9 2-2V5c0-1.1-.9-2-2-2zM9 17H7v-7h2v7zm4 0h-2V7h2v10zm4 0h-2v-4h2v4z\"/>\n",
              "    </g>\n",
              "</svg>\n",
              "  </button>\n",
              "\n",
              "<style>\n",
              "  .colab-df-quickchart {\n",
              "      --bg-color: #E8F0FE;\n",
              "      --fill-color: #1967D2;\n",
              "      --hover-bg-color: #E2EBFA;\n",
              "      --hover-fill-color: #174EA6;\n",
              "      --disabled-fill-color: #AAA;\n",
              "      --disabled-bg-color: #DDD;\n",
              "  }\n",
              "\n",
              "  [theme=dark] .colab-df-quickchart {\n",
              "      --bg-color: #3B4455;\n",
              "      --fill-color: #D2E3FC;\n",
              "      --hover-bg-color: #434B5C;\n",
              "      --hover-fill-color: #FFFFFF;\n",
              "      --disabled-bg-color: #3B4455;\n",
              "      --disabled-fill-color: #666;\n",
              "  }\n",
              "\n",
              "  .colab-df-quickchart {\n",
              "    background-color: var(--bg-color);\n",
              "    border: none;\n",
              "    border-radius: 50%;\n",
              "    cursor: pointer;\n",
              "    display: none;\n",
              "    fill: var(--fill-color);\n",
              "    height: 32px;\n",
              "    padding: 0;\n",
              "    width: 32px;\n",
              "  }\n",
              "\n",
              "  .colab-df-quickchart:hover {\n",
              "    background-color: var(--hover-bg-color);\n",
              "    box-shadow: 0 1px 2px rgba(60, 64, 67, 0.3), 0 1px 3px 1px rgba(60, 64, 67, 0.15);\n",
              "    fill: var(--button-hover-fill-color);\n",
              "  }\n",
              "\n",
              "  .colab-df-quickchart-complete:disabled,\n",
              "  .colab-df-quickchart-complete:disabled:hover {\n",
              "    background-color: var(--disabled-bg-color);\n",
              "    fill: var(--disabled-fill-color);\n",
              "    box-shadow: none;\n",
              "  }\n",
              "\n",
              "  .colab-df-spinner {\n",
              "    border: 2px solid var(--fill-color);\n",
              "    border-color: transparent;\n",
              "    border-bottom-color: var(--fill-color);\n",
              "    animation:\n",
              "      spin 1s steps(1) infinite;\n",
              "  }\n",
              "\n",
              "  @keyframes spin {\n",
              "    0% {\n",
              "      border-color: transparent;\n",
              "      border-bottom-color: var(--fill-color);\n",
              "      border-left-color: var(--fill-color);\n",
              "    }\n",
              "    20% {\n",
              "      border-color: transparent;\n",
              "      border-left-color: var(--fill-color);\n",
              "      border-top-color: var(--fill-color);\n",
              "    }\n",
              "    30% {\n",
              "      border-color: transparent;\n",
              "      border-left-color: var(--fill-color);\n",
              "      border-top-color: var(--fill-color);\n",
              "      border-right-color: var(--fill-color);\n",
              "    }\n",
              "    40% {\n",
              "      border-color: transparent;\n",
              "      border-right-color: var(--fill-color);\n",
              "      border-top-color: var(--fill-color);\n",
              "    }\n",
              "    60% {\n",
              "      border-color: transparent;\n",
              "      border-right-color: var(--fill-color);\n",
              "    }\n",
              "    80% {\n",
              "      border-color: transparent;\n",
              "      border-right-color: var(--fill-color);\n",
              "      border-bottom-color: var(--fill-color);\n",
              "    }\n",
              "    90% {\n",
              "      border-color: transparent;\n",
              "      border-bottom-color: var(--fill-color);\n",
              "    }\n",
              "  }\n",
              "</style>\n",
              "\n",
              "  <script>\n",
              "    async function quickchart(key) {\n",
              "      const quickchartButtonEl =\n",
              "        document.querySelector('#' + key + ' button');\n",
              "      quickchartButtonEl.disabled = true;  // To prevent multiple clicks.\n",
              "      quickchartButtonEl.classList.add('colab-df-spinner');\n",
              "      try {\n",
              "        const charts = await google.colab.kernel.invokeFunction(\n",
              "            'suggestCharts', [key], {});\n",
              "      } catch (error) {\n",
              "        console.error('Error during call to suggestCharts:', error);\n",
              "      }\n",
              "      quickchartButtonEl.classList.remove('colab-df-spinner');\n",
              "      quickchartButtonEl.classList.add('colab-df-quickchart-complete');\n",
              "    }\n",
              "    (() => {\n",
              "      let quickchartButtonEl =\n",
              "        document.querySelector('#df-f4e6feb5-4988-4550-bc37-746b86f98cc7 button');\n",
              "      quickchartButtonEl.style.display =\n",
              "        google.colab.kernel.accessAllowed ? 'block' : 'none';\n",
              "    })();\n",
              "  </script>\n",
              "</div>\n",
              "\n",
              "  <div id=\"id_12ec10ce-eaea-4d10-b279-b27ee0c9d949\">\n",
              "    <style>\n",
              "      .colab-df-generate {\n",
              "        background-color: #E8F0FE;\n",
              "        border: none;\n",
              "        border-radius: 50%;\n",
              "        cursor: pointer;\n",
              "        display: none;\n",
              "        fill: #1967D2;\n",
              "        height: 32px;\n",
              "        padding: 0 0 0 0;\n",
              "        width: 32px;\n",
              "      }\n",
              "\n",
              "      .colab-df-generate:hover {\n",
              "        background-color: #E2EBFA;\n",
              "        box-shadow: 0px 1px 2px rgba(60, 64, 67, 0.3), 0px 1px 3px 1px rgba(60, 64, 67, 0.15);\n",
              "        fill: #174EA6;\n",
              "      }\n",
              "\n",
              "      [theme=dark] .colab-df-generate {\n",
              "        background-color: #3B4455;\n",
              "        fill: #D2E3FC;\n",
              "      }\n",
              "\n",
              "      [theme=dark] .colab-df-generate:hover {\n",
              "        background-color: #434B5C;\n",
              "        box-shadow: 0px 1px 3px 1px rgba(0, 0, 0, 0.15);\n",
              "        filter: drop-shadow(0px 1px 2px rgba(0, 0, 0, 0.3));\n",
              "        fill: #FFFFFF;\n",
              "      }\n",
              "    </style>\n",
              "    <button class=\"colab-df-generate\" onclick=\"generateWithVariable('df')\"\n",
              "            title=\"Generate code using this dataframe.\"\n",
              "            style=\"display:none;\">\n",
              "\n",
              "  <svg xmlns=\"http://www.w3.org/2000/svg\" height=\"24px\"viewBox=\"0 0 24 24\"\n",
              "       width=\"24px\">\n",
              "    <path d=\"M7,19H8.4L18.45,9,17,7.55,7,17.6ZM5,21V16.75L18.45,3.32a2,2,0,0,1,2.83,0l1.4,1.43a1.91,1.91,0,0,1,.58,1.4,1.91,1.91,0,0,1-.58,1.4L9.25,21ZM18.45,9,17,7.55Zm-12,3A5.31,5.31,0,0,0,4.9,8.1,5.31,5.31,0,0,0,1,6.5,5.31,5.31,0,0,0,4.9,4.9,5.31,5.31,0,0,0,6.5,1,5.31,5.31,0,0,0,8.1,4.9,5.31,5.31,0,0,0,12,6.5,5.46,5.46,0,0,0,6.5,12Z\"/>\n",
              "  </svg>\n",
              "    </button>\n",
              "    <script>\n",
              "      (() => {\n",
              "      const buttonEl =\n",
              "        document.querySelector('#id_12ec10ce-eaea-4d10-b279-b27ee0c9d949 button.colab-df-generate');\n",
              "      buttonEl.style.display =\n",
              "        google.colab.kernel.accessAllowed ? 'block' : 'none';\n",
              "\n",
              "      buttonEl.onclick = () => {\n",
              "        google.colab.notebook.generateWithVariable('df');\n",
              "      }\n",
              "      })();\n",
              "    </script>\n",
              "  </div>\n",
              "\n",
              "    </div>\n",
              "  </div>\n"
            ],
            "application/vnd.google.colaboratory.intrinsic+json": {
              "type": "dataframe",
              "variable_name": "df",
              "summary": "{\n  \"name\": \"df\",\n  \"rows\": 1009,\n  \"fields\": [\n    {\n      \"column\": \"Date\",\n      \"properties\": {\n        \"dtype\": \"object\",\n        \"num_unique_values\": 1009,\n        \"samples\": [\n          \"2020-08-04\",\n          \"2020-08-07\",\n          \"2021-01-14\"\n        ],\n        \"semantic_type\": \"\",\n        \"description\": \"\"\n      }\n    },\n    {\n      \"column\": \"Open\",\n      \"properties\": {\n        \"dtype\": \"number\",\n        \"std\": 108.53753170401451,\n        \"min\": 233.919998,\n        \"max\": 692.349976,\n        \"num_unique_values\": 976,\n        \"samples\": [\n          254.630005,\n          427.559998,\n          339.570007\n        ],\n        \"semantic_type\": \"\",\n        \"description\": \"\"\n      }\n    },\n    {\n      \"column\": \"High\",\n      \"properties\": {\n        \"dtype\": \"number\",\n        \"std\": 109.2629595711946,\n        \"min\": 250.649994,\n        \"max\": 700.98999,\n        \"num_unique_values\": 983,\n        \"samples\": [\n          511.76001,\n          494.850006,\n          496.660004\n        ],\n        \"semantic_type\": \"\",\n        \"description\": \"\"\n      }\n    },\n    {\n      \"column\": \"Low\",\n      \"properties\": {\n        \"dtype\": \"number\",\n        \"std\": 107.55586739006046,\n        \"min\": 231.229996,\n        \"max\": 686.090027,\n        \"num_unique_values\": 989,\n        \"samples\": [\n          266.480011,\n          349.290009,\n          384.899994\n        ],\n        \"semantic_type\": \"\",\n        \"description\": \"\"\n      }\n    },\n    {\n      \"column\": \"Close\",\n      \"properties\": {\n        \"dtype\": \"number\",\n        \"std\": 108.28999877034997,\n        \"min\": 233.880005,\n        \"max\": 691.690002,\n        \"num_unique_values\": 988,\n        \"samples\": [\n          265.320007,\n          345.559998,\n          380.070007\n        ],\n        \"semantic_type\": \"\",\n        \"description\": \"\"\n      }\n    },\n    {\n      \"column\": \"Adj Close\",\n      \"properties\": {\n        \"dtype\": \"number\",\n        \"std\": 108.28999877034997,\n        \"min\": 233.880005,\n        \"max\": 691.690002,\n        \"num_unique_values\": 988,\n        \"samples\": [\n          265.320007,\n          345.559998,\n          380.070007\n        ],\n        \"semantic_type\": \"\",\n        \"description\": \"\"\n      }\n    },\n    {\n      \"column\": \"Volume\",\n      \"properties\": {\n        \"dtype\": \"number\",\n        \"std\": 5465535,\n        \"min\": 1144000,\n        \"max\": 58904300,\n        \"num_unique_values\": 1005,\n        \"samples\": [\n          2671700,\n          3725900,\n          4927900\n        ],\n        \"semantic_type\": \"\",\n        \"description\": \"\"\n      }\n    }\n  ]\n}"
            }
          },
          "metadata": {},
          "execution_count": 4
        }
      ],
      "source": [
        "df"
      ]
    },
    {
      "cell_type": "code",
      "execution_count": 5,
      "id": "806327dd-2ad8-4ab4-9214-791e7fa1c348",
      "metadata": {
        "id": "806327dd-2ad8-4ab4-9214-791e7fa1c348"
      },
      "outputs": [],
      "source": [
        "df1=df.reset_index()['Close']"
      ]
    },
    {
      "cell_type": "code",
      "execution_count": 6,
      "id": "83f69097-9e5c-459d-a78b-61b650a3fb87",
      "metadata": {
        "colab": {
          "base_uri": "https://localhost:8080/",
          "height": 458
        },
        "id": "83f69097-9e5c-459d-a78b-61b650a3fb87",
        "outputId": "ac3f9e35-965b-457a-82ce-62d7747a3e5f"
      },
      "outputs": [
        {
          "output_type": "execute_result",
          "data": {
            "text/plain": [
              "0       254.259995\n",
              "1       265.720001\n",
              "2       264.559998\n",
              "3       250.100006\n",
              "4       249.470001\n",
              "           ...    \n",
              "1004    427.140015\n",
              "1005    457.130005\n",
              "1006    429.480011\n",
              "1007    405.600006\n",
              "1008    410.170013\n",
              "Name: Close, Length: 1009, dtype: float64"
            ],
            "text/html": [
              "<div>\n",
              "<style scoped>\n",
              "    .dataframe tbody tr th:only-of-type {\n",
              "        vertical-align: middle;\n",
              "    }\n",
              "\n",
              "    .dataframe tbody tr th {\n",
              "        vertical-align: top;\n",
              "    }\n",
              "\n",
              "    .dataframe thead th {\n",
              "        text-align: right;\n",
              "    }\n",
              "</style>\n",
              "<table border=\"1\" class=\"dataframe\">\n",
              "  <thead>\n",
              "    <tr style=\"text-align: right;\">\n",
              "      <th></th>\n",
              "      <th>Close</th>\n",
              "    </tr>\n",
              "  </thead>\n",
              "  <tbody>\n",
              "    <tr>\n",
              "      <th>0</th>\n",
              "      <td>254.259995</td>\n",
              "    </tr>\n",
              "    <tr>\n",
              "      <th>1</th>\n",
              "      <td>265.720001</td>\n",
              "    </tr>\n",
              "    <tr>\n",
              "      <th>2</th>\n",
              "      <td>264.559998</td>\n",
              "    </tr>\n",
              "    <tr>\n",
              "      <th>3</th>\n",
              "      <td>250.100006</td>\n",
              "    </tr>\n",
              "    <tr>\n",
              "      <th>4</th>\n",
              "      <td>249.470001</td>\n",
              "    </tr>\n",
              "    <tr>\n",
              "      <th>...</th>\n",
              "      <td>...</td>\n",
              "    </tr>\n",
              "    <tr>\n",
              "      <th>1004</th>\n",
              "      <td>427.140015</td>\n",
              "    </tr>\n",
              "    <tr>\n",
              "      <th>1005</th>\n",
              "      <td>457.130005</td>\n",
              "    </tr>\n",
              "    <tr>\n",
              "      <th>1006</th>\n",
              "      <td>429.480011</td>\n",
              "    </tr>\n",
              "    <tr>\n",
              "      <th>1007</th>\n",
              "      <td>405.600006</td>\n",
              "    </tr>\n",
              "    <tr>\n",
              "      <th>1008</th>\n",
              "      <td>410.170013</td>\n",
              "    </tr>\n",
              "  </tbody>\n",
              "</table>\n",
              "<p>1009 rows × 1 columns</p>\n",
              "</div><br><label><b>dtype:</b> float64</label>"
            ]
          },
          "metadata": {},
          "execution_count": 6
        }
      ],
      "source": [
        "df1"
      ]
    },
    {
      "cell_type": "code",
      "execution_count": 7,
      "id": "e5eaa3b3-3600-42a3-85c5-753a4e003e86",
      "metadata": {
        "colab": {
          "base_uri": "https://localhost:8080/",
          "height": 447
        },
        "id": "e5eaa3b3-3600-42a3-85c5-753a4e003e86",
        "outputId": "04dbd223-ed7b-4fc1-9c93-f5a91d2e7678"
      },
      "outputs": [
        {
          "output_type": "execute_result",
          "data": {
            "text/plain": [
              "[<matplotlib.lines.Line2D at 0x79f149236e90>]"
            ]
          },
          "metadata": {},
          "execution_count": 7
        },
        {
          "output_type": "display_data",
          "data": {
            "text/plain": [
              "<Figure size 640x480 with 1 Axes>"
            ],
            "image/png": "[encoded data removed]"
          },
          "metadata": {}
        }
      ],
      "source": [
        "plt.plot(df1)"
      ]
    },
    {
      "cell_type": "code",
      "execution_count": 8,
      "id": "3499a093-e55a-4b84-b096-f38ca2a78f19",
      "metadata": {
        "id": "3499a093-e55a-4b84-b096-f38ca2a78f19"
      },
      "outputs": [],
      "source": [
        "import numpy as np"
      ]
    },
    {
      "cell_type": "code",
      "execution_count": 9,
      "id": "0ad87677-75ee-4ca7-9496-69bdb4832bc4",
      "metadata": {
        "id": "0ad87677-75ee-4ca7-9496-69bdb4832bc4"
      },
      "outputs": [],
      "source": [
        "scaler=MinMaxScaler(feature_range=(0,1))\n",
        "df1=scaler.fit_transform(np.array(df1).reshape(-1,1))"
      ]
    },
    {
      "cell_type": "code",
      "execution_count": 10,
      "id": "44182e84-9c07-4ccf-9220-ec8d2d36620a",
      "metadata": {
        "colab": {
          "base_uri": "https://localhost:8080/"
        },
        "id": "44182e84-9c07-4ccf-9220-ec8d2d36620a",
        "outputId": "07076080-d42f-4ca2-8cec-419710405d8b"
      },
      "outputs": [
        {
          "output_type": "execute_result",
          "data": {
            "text/plain": [
              "array([[0.04451626],\n",
              "       [0.06954849],\n",
              "       [0.06701469],\n",
              "       ...,\n",
              "       [0.4272515 ],\n",
              "       [0.37509011],\n",
              "       [0.38507243]])"
            ]
          },
          "metadata": {},
          "execution_count": 10
        }
      ],
      "source": [
        "df1"
      ]
    },
    {
      "cell_type": "code",
      "execution_count": 10,
      "id": "f63d20de-758d-4ea6-9efd-9b9997cafdac",
      "metadata": {
        "id": "f63d20de-758d-4ea6-9efd-9b9997cafdac"
      },
      "outputs": [],
      "source": []
    },
    {
      "cell_type": "code",
      "execution_count": 10,
      "id": "b0867121-d2ee-47b3-9687-d345016e6606",
      "metadata": {
        "id": "b0867121-d2ee-47b3-9687-d345016e6606"
      },
      "outputs": [],
      "source": []
    },
    {
      "cell_type": "markdown",
      "id": "33f008b4-4cf3-4d87-b69f-477d3615ef17",
      "metadata": {
        "id": "33f008b4-4cf3-4d87-b69f-477d3615ef17"
      },
      "source": [
        "### Train test split"
      ]
    },
    {
      "cell_type": "code",
      "execution_count": 11,
      "id": "5fcf3f04-f6bd-4e67-8035-bb66064c6fb4",
      "metadata": {
        "id": "5fcf3f04-f6bd-4e67-8035-bb66064c6fb4"
      },
      "outputs": [],
      "source": [
        "training_size=int(len(df1)*0.7)\n",
        "test_size=len(df1)-training_size\n",
        "train_data,test_data=df1[0:training_size,:],df1[training_size:len(df1),:1]"
      ]
    },
    {
      "cell_type": "code",
      "execution_count": 12,
      "id": "af4555cb-fab3-4f7a-bd80-a843ccad9a44",
      "metadata": {
        "colab": {
          "base_uri": "https://localhost:8080/"
        },
        "id": "af4555cb-fab3-4f7a-bd80-a843ccad9a44",
        "outputId": "61ce8593-9691-41bf-e59f-c18df53b4a15"
      },
      "outputs": [
        {
          "output_type": "execute_result",
          "data": {
            "text/plain": [
              "(706, 303)"
            ]
          },
          "metadata": {},
          "execution_count": 12
        }
      ],
      "source": [
        "training_size,test_size"
      ]
    },
    {
      "cell_type": "code",
      "execution_count": 13,
      "id": "45e119dd-5689-4e11-be30-792b5aafb481",
      "metadata": {
        "colab": {
          "base_uri": "https://localhost:8080/"
        },
        "id": "45e119dd-5689-4e11-be30-792b5aafb481",
        "outputId": "0d3c80f2-1c89-4a8d-ce37-672ad18c0d7f"
      },
      "outputs": [
        {
          "output_type": "execute_result",
          "data": {
            "text/plain": [
              "array([[0.04451626],\n",
              "       [0.06954849],\n",
              "       [0.06701469],\n",
              "       [0.03542955],\n",
              "       [0.03405342],\n",
              "       [0.05257641],\n",
              "       [0.05327534],\n",
              "       [0.0701601 ],\n",
              "       [0.10133021],\n",
              "       [0.09750767],\n",
              "       [0.09757319],\n",
              "       [0.10301218],\n",
              "       [0.09667768],\n",
              "       [0.11369343],\n",
              "       [0.13167034],\n",
              "       [0.12391599],\n",
              "       [0.12559796],\n",
              "       [0.12343551],\n",
              "       [0.14672022],\n",
              "       [0.1771914 ],\n",
              "       [0.19951508],\n",
              "       [0.19064677],\n",
              "       [0.18156003],\n",
              "       [0.2131015 ],\n",
              "       [0.19095254],\n",
              "       [0.17911361],\n",
              "       [0.19149862],\n",
              "       [0.19049385],\n",
              "       [0.18472731],\n",
              "       [0.17387127],\n",
              "       [0.18265218],\n",
              "       [0.18042421],\n",
              "       [0.15906164],\n",
              "       [0.14647998],\n",
              "       [0.18887749],\n",
              "       [0.1459339 ],\n",
              "       [0.11334393],\n",
              "       [0.13426968],\n",
              "       [0.10137394],\n",
              "       [0.10875693],\n",
              "       [0.12026823],\n",
              "       [0.13125532],\n",
              "       [0.12007165],\n",
              "       [0.12243068],\n",
              "       [0.14021101],\n",
              "       [0.15244317],\n",
              "       [0.16463161],\n",
              "       [0.16987394],\n",
              "       [0.16142066],\n",
              "       [0.22319301],\n",
              "       [0.21982915],\n",
              "       [0.21585376],\n",
              "       [0.20508505],\n",
              "       [0.18525152],\n",
              "       [0.15976057],\n",
              "       [0.15700838],\n",
              "       [0.17496343],\n",
              "       [0.17011425],\n",
              "       [0.17164323],\n",
              "       [0.17347804],\n",
              "       [0.1736091 ],\n",
              "       [0.16996133],\n",
              "       [0.18830954],\n",
              "       [0.20178678],\n",
              "       [0.20316291],\n",
              "       [0.21061135],\n",
              "       [0.20908237],\n",
              "       [0.2022236 ],\n",
              "       [0.20674514],\n",
              "       [0.20150281],\n",
              "       [0.20600248],\n",
              "       [0.19951508],\n",
              "       [0.19724337],\n",
              "       [0.21393155],\n",
              "       [0.21349466],\n",
              "       [0.24210916],\n",
              "       [0.25209149],\n",
              "       [0.25646011],\n",
              "       [0.25305259],\n",
              "       [0.26137482],\n",
              "       [0.25713724],\n",
              "       [0.27533254],\n",
              "       [0.27943906],\n",
              "       [0.28815444],\n",
              "       [0.29175861],\n",
              "       [0.27854348],\n",
              "       [0.27673053],\n",
              "       [0.27865273],\n",
              "       [0.28385134],\n",
              "       [0.31901878],\n",
              "       [0.34728379],\n",
              "       [0.34533979],\n",
              "       [0.34188853],\n",
              "       [0.37373584],\n",
              "       [0.39946704],\n",
              "       [0.39658373],\n",
              "       [0.38708196],\n",
              "       [0.32895744],\n",
              "       [0.36152555],\n",
              "       [0.34186674],\n",
              "       [0.35285382],\n",
              "       [0.34413837],\n",
              "       [0.35888248],\n",
              "       [0.34215064],\n",
              "       [0.35934124],\n",
              "       [0.38087852],\n",
              "       [0.40429435],\n",
              "       [0.39699876],\n",
              "       [0.40359536],\n",
              "       [0.39234616],\n",
              "       [0.35368381],\n",
              "       [0.36390644],\n",
              "       [0.31803588],\n",
              "       [0.30853411],\n",
              "       [0.28472512],\n",
              "       [0.27777896],\n",
              "       [0.28129573],\n",
              "       [0.26963151],\n",
              "       [0.28175442],\n",
              "       [0.28223497],\n",
              "       [0.26502258],\n",
              "       [0.22079026],\n",
              "       [0.22622924],\n",
              "       [0.22826063],\n",
              "       [0.24162861],\n",
              "       [0.23854872],\n",
              "       [0.25565193],\n",
              "       [0.25763959],\n",
              "       [0.24842179],\n",
              "       [0.25224434],\n",
              "       [0.24462111],\n",
              "       [0.23466065],\n",
              "       [0.22631656],\n",
              "       [0.20209255],\n",
              "       [0.19344269],\n",
              "       [0.18107948],\n",
              "       [0.20499772],\n",
              "       [0.22747425],\n",
              "       [0.24149756],\n",
              "       [0.22998626],\n",
              "       [0.27290798],\n",
              "       [0.28548958],\n",
              "       [0.29403024],\n",
              "       [0.29304734],\n",
              "       [0.29946923],\n",
              "       [0.29226096],\n",
              "       [0.28334899],\n",
              "       [0.23437668],\n",
              "       [0.24590985],\n",
              "       [0.25075902],\n",
              "       [0.25016928],\n",
              "       [0.26659529],\n",
              "       [0.29721939],\n",
              "       [0.29328759],\n",
              "       [0.28544591],\n",
              "       [0.25440685],\n",
              "       [0.29219543],\n",
              "       [0.29068825],\n",
              "       [0.28719334],\n",
              "       [0.27808479],\n",
              "       [0.29647666],\n",
              "       [0.2960835 ],\n",
              "       [0.31454097],\n",
              "       [0.32072254],\n",
              "       [0.3063498 ],\n",
              "       [0.32229525],\n",
              "       [0.3129246 ],\n",
              "       [0.31272795],\n",
              "       [0.28345818],\n",
              "       [0.25659117],\n",
              "       [0.25167646],\n",
              "       [0.26611473],\n",
              "       [0.2009786 ],\n",
              "       [0.19051572],\n",
              "       [0.23083811],\n",
              "       [0.21679299],\n",
              "       [0.24577879],\n",
              "       [0.28575175],\n",
              "       [0.24645592],\n",
              "       [0.21578823],\n",
              "       [0.20895132],\n",
              "       [0.21685852],\n",
              "       [0.14842398],\n",
              "       [0.17253881],\n",
              "       [0.14405536],\n",
              "       [0.11131253],\n",
              "       [0.11343132],\n",
              "       [0.14831479],\n",
              "       [0.18239008],\n",
              "       [0.16430397],\n",
              "       [0.1781525 ],\n",
              "       [0.16810465],\n",
              "       [0.20449531],\n",
              "       [0.18356962],\n",
              "       [0.15200628],\n",
              "       [0.13147376],\n",
              "       [0.13219456],\n",
              "       [0.11544092],\n",
              "       [0.12271465],\n",
              "       [0.11430503],\n",
              "       [0.08020795],\n",
              "       [0.07230075],\n",
              "       [0.06170682],\n",
              "       [0.05447675],\n",
              "       [0.06017778],\n",
              "       [0.07153623],\n",
              "       [0.10652889],\n",
              "       [0.1198532 ],\n",
              "       [0.11413032],\n",
              "       [0.12323886],\n",
              "       [0.0905397 ],\n",
              "       [0.1070313 ],\n",
              "       [0.06828162],\n",
              "       [0.07824208],\n",
              "       [0.06867478],\n",
              "       [0.0895568 ],\n",
              "       [0.09204688],\n",
              "       [0.07199491],\n",
              "       [0.06317027],\n",
              "       [0.08095061],\n",
              "       [0.071842  ],\n",
              "       [0.0583211 ],\n",
              "       [0.02732573],\n",
              "       [0.        ],\n",
              "       [0.04322752],\n",
              "       [0.04737774],\n",
              "       [0.04849169],\n",
              "       [0.07378607],\n",
              "       [0.07378607],\n",
              "       [0.08151855],\n",
              "       [0.13911885],\n",
              "       [0.17793406],\n",
              "       [0.1887027 ],\n",
              "       [0.18802557],\n",
              "       [0.19829187],\n",
              "       [0.22653501],\n",
              "       [0.21637797],\n",
              "       [0.26377757],\n",
              "       [0.25667856],\n",
              "       [0.26061029],\n",
              "       [0.22983334],\n",
              "       [0.19938402],\n",
              "       [0.19245972],\n",
              "       [0.20268235],\n",
              "       [0.22753977],\n",
              "       [0.2223193 ],\n",
              "       [0.20755333],\n",
              "       [0.23324086],\n",
              "       [0.23070705],\n",
              "       [0.23147157],\n",
              "       [0.2565693 ],\n",
              "       [0.26633318],\n",
              "       [0.25842598],\n",
              "       [0.2420873 ],\n",
              "       [0.24833447],\n",
              "       [0.24431534],\n",
              "       [0.27541993],\n",
              "       [0.25750854],\n",
              "       [0.27345406],\n",
              "       [0.26864855],\n",
              "       [0.27967936],\n",
              "       [0.27528887],\n",
              "       [0.26886699],\n",
              "       [0.28208205],\n",
              "       [0.28402612],\n",
              "       [0.28634149],\n",
              "       [0.28175442],\n",
              "       [0.27133527],\n",
              "       [0.26963151],\n",
              "       [0.25591404],\n",
              "       [0.26303485],\n",
              "       [0.27463354],\n",
              "       [0.25932156],\n",
              "       [0.25276862],\n",
              "       [0.27299531],\n",
              "       [0.26733795],\n",
              "       [0.27812845],\n",
              "       [0.27290798],\n",
              "       [0.27867453],\n",
              "       [0.28299949],\n",
              "       [0.27282059],\n",
              "       [0.30873069],\n",
              "       [0.3145191 ],\n",
              "       [0.27769163],\n",
              "       [0.28909374],\n",
              "       [0.27541993],\n",
              "       [0.26100345],\n",
              "       [0.26371198],\n",
              "       [0.26797142],\n",
              "       [0.29068825],\n",
              "       [0.29234835],\n",
              "       [0.2967825 ],\n",
              "       [0.29269785],\n",
              "       [0.28747731],\n",
              "       [0.27856534],\n",
              "       [0.28577355],\n",
              "       [0.28404799],\n",
              "       [0.29219543],\n",
              "       [0.25613248],\n",
              "       [0.25117405],\n",
              "       [0.27430591],\n",
              "       [0.26399595],\n",
              "       [0.27624998],\n",
              "       [0.31336142],\n",
              "       [0.32330008],\n",
              "       [0.30656824],\n",
              "       [0.29368075],\n",
              "       [0.3079225 ],\n",
              "       [0.30132584],\n",
              "       [0.29850813],\n",
              "       [0.31657236],\n",
              "       [0.31711844],\n",
              "       [0.33015879],\n",
              "       [0.31626659],\n",
              "       [0.29833334],\n",
              "       [0.28503089],\n",
              "       [0.28149231],\n",
              "       [0.27775716],\n",
              "       [0.24328871],\n",
              "       [0.24405317],\n",
              "       [0.26454203],\n",
              "       [0.27397827],\n",
              "       [0.26336255],\n",
              "       [0.24951395],\n",
              "       [0.26296932],\n",
              "       [0.27489571],\n",
              "       [0.25846964],\n",
              "       [0.2632315 ],\n",
              "       [0.26469495],\n",
              "       [0.25187304],\n",
              "       [0.25768332],\n",
              "       [0.23896375],\n",
              "       [0.22443809],\n",
              "       [0.26106898],\n",
              "       [0.26615846],\n",
              "       [0.26921649],\n",
              "       [0.2773858 ],\n",
              "       [0.25803282],\n",
              "       [0.25641638],\n",
              "       [0.24394398],\n",
              "       [0.23929138],\n",
              "       [0.23120947],\n",
              "       [0.25499659],\n",
              "       [0.26919462],\n",
              "       [0.28317421],\n",
              "       [0.2868657 ],\n",
              "       [0.29560295],\n",
              "       [0.29960028],\n",
              "       [0.27614072],\n",
              "       [0.28029097],\n",
              "       [0.29737224],\n",
              "       [0.29147464],\n",
              "       [0.30737643],\n",
              "       [0.30918938],\n",
              "       [0.32292872],\n",
              "       [0.32037305],\n",
              "       [0.31078395],\n",
              "       [0.31901878],\n",
              "       [0.32135601],\n",
              "       [0.31807954],\n",
              "       [0.30442759],\n",
              "       [0.28990193],\n",
              "       [0.28856946],\n",
              "       [0.28081518],\n",
              "       [0.19949321],\n",
              "       [0.17740985],\n",
              "       [0.1676241 ],\n",
              "       [0.16037217],\n",
              "       [0.18361328],\n",
              "       [0.2022236 ],\n",
              "       [0.22258141],\n",
              "       [0.21585376],\n",
              "       [0.20106592],\n",
              "       [0.19464403],\n",
              "       [0.18702081],\n",
              "       [0.18555729],\n",
              "       [0.16109303],\n",
              "       [0.16648828],\n",
              "       [0.15379744],\n",
              "       [0.17915727],\n",
              "       [0.16393261],\n",
              "       [0.16808279],\n",
              "       [0.17125007],\n",
              "       [0.14248265],\n",
              "       [0.13516526],\n",
              "       [0.15054277],\n",
              "       [0.16491558],\n",
              "       [0.14222054],\n",
              "       [0.13964307],\n",
              "       [0.13772086],\n",
              "       [0.12572901],\n",
              "       [0.13346149],\n",
              "       [0.12483343],\n",
              "       [0.1264498 ],\n",
              "       [0.13739323],\n",
              "       [0.13077477],\n",
              "       [0.12103275],\n",
              "       [0.12590373],\n",
              "       [0.12968261],\n",
              "       [0.12295496],\n",
              "       [0.1320635 ],\n",
              "       [0.1181931 ],\n",
              "       [0.11880471],\n",
              "       [0.12009345],\n",
              "       [0.13164848],\n",
              "       [0.13195431],\n",
              "       [0.14136869],\n",
              "       [0.12599112],\n",
              "       [0.11515695],\n",
              "       [0.08053558],\n",
              "       [0.06998538],\n",
              "       [0.04523709],\n",
              "       [0.06742971],\n",
              "       [0.0642843 ],\n",
              "       [0.06378188],\n",
              "       [0.07369867],\n",
              "       [0.07797991],\n",
              "       [0.07459425],\n",
              "       [0.07485636],\n",
              "       [0.0849916 ],\n",
              "       [0.08863936],\n",
              "       [0.08047006],\n",
              "       [0.0735021 ],\n",
              "       [0.10178897],\n",
              "       [0.10714049],\n",
              "       [0.11281972],\n",
              "       [0.1100238 ],\n",
              "       [0.11445795],\n",
              "       [0.12990105],\n",
              "       [0.09047418],\n",
              "       [0.09648104],\n",
              "       [0.07166728],\n",
              "       [0.0816714 ],\n",
              "       [0.08217382],\n",
              "       [0.09379437],\n",
              "       [0.10480326],\n",
              "       [0.10338347],\n",
              "       [0.12575087],\n",
              "       [0.11692623],\n",
              "       [0.11561563],\n",
              "       [0.12883069],\n",
              "       [0.1182805 ],\n",
              "       [0.11950371],\n",
              "       [0.12164436],\n",
              "       [0.12601298],\n",
              "       [0.131714  ],\n",
              "       [0.12697408],\n",
              "       [0.10753365],\n",
              "       [0.12175354],\n",
              "       [0.13357068],\n",
              "       [0.15004042],\n",
              "       [0.15010594],\n",
              "       [0.15569778],\n",
              "       [0.16996133],\n",
              "       [0.16731833],\n",
              "       [0.17839275],\n",
              "       [0.17170876],\n",
              "       [0.1792228 ],\n",
              "       [0.17644874],\n",
              "       [0.16624798],\n",
              "       [0.15788209],\n",
              "       [0.15386296],\n",
              "       [0.15067382],\n",
              "       [0.16048143],\n",
              "       [0.1498875 ],\n",
              "       [0.12939864],\n",
              "       [0.14208949],\n",
              "       [0.14101919],\n",
              "       [0.14115025],\n",
              "       [0.15362265],\n",
              "       [0.1782399 ],\n",
              "       [0.18986039],\n",
              "       [0.21480526],\n",
              "       [0.22502783],\n",
              "       [0.21672747],\n",
              "       [0.21694591],\n",
              "       [0.21570084],\n",
              "       [0.20796835],\n",
              "       [0.19534303],\n",
              "       [0.19591097],\n",
              "       [0.20954106],\n",
              "       [0.20100039],\n",
              "       [0.2226906 ],\n",
              "       [0.21159432],\n",
              "       [0.23018284],\n",
              "       [0.2223193 ],\n",
              "       [0.20788096],\n",
              "       [0.22944018],\n",
              "       [0.22893776],\n",
              "       [0.22976781],\n",
              "       [0.22878485],\n",
              "       [0.23107841],\n",
              "       [0.22767083],\n",
              "       [0.20121884],\n",
              "       [0.25276862],\n",
              "       [0.26054477],\n",
              "       [0.23809004],\n",
              "       [0.25040953],\n",
              "       [0.23870164],\n",
              "       [0.24870576],\n",
              "       [0.24291735],\n",
              "       [0.27111683],\n",
              "       [0.29516613],\n",
              "       [0.29660778],\n",
              "       [0.29066645],\n",
              "       [0.29027322],\n",
              "       [0.29966581],\n",
              "       [0.30538869],\n",
              "       [0.31919356],\n",
              "       [0.32222972],\n",
              "       [0.32004541],\n",
              "       [0.33616565],\n",
              "       [0.3326926 ],\n",
              "       [0.33227757],\n",
              "       [0.31932462],\n",
              "       [0.294489  ],\n",
              "       [0.27568203],\n",
              "       [0.3175116 ],\n",
              "       [0.30106373],\n",
              "       [0.29520979],\n",
              "       [0.3214652 ],\n",
              "       [0.29464185],\n",
              "       [0.32745026],\n",
              "       [0.30340096],\n",
              "       [0.29507874],\n",
              "       [0.24597537],\n",
              "       [0.28450667],\n",
              "       [0.25346761],\n",
              "       [0.17773748],\n",
              "       [0.22371723],\n",
              "       [0.14189291],\n",
              "       [0.18756688],\n",
              "       [0.17821803],\n",
              "       [0.21439024],\n",
              "       [0.21613766],\n",
              "       [0.27607519],\n",
              "       [0.26963151],\n",
              "       [0.23701975],\n",
              "       [0.28201653],\n",
              "       [0.26919462],\n",
              "       [0.2994255 ],\n",
              "       [0.30934229],\n",
              "       [0.28439742],\n",
              "       [0.29750329],\n",
              "       [0.27932987],\n",
              "       [0.31908431],\n",
              "       [0.30230881],\n",
              "       [0.299775  ],\n",
              "       [0.29890128],\n",
              "       [0.3556934 ],\n",
              "       [0.39245535],\n",
              "       [0.4212883 ],\n",
              "       [0.44841749],\n",
              "       [0.41300974],\n",
              "       [0.44474779],\n",
              "       [0.4367532 ],\n",
              "       [0.40964594],\n",
              "       [0.42117911],\n",
              "       [0.41744389],\n",
              "       [0.40955855],\n",
              "       [0.37122383],\n",
              "       [0.38882945],\n",
              "       [0.40621656],\n",
              "       [0.39621237],\n",
              "       [0.42434632],\n",
              "       [0.41676676],\n",
              "       [0.43769251],\n",
              "       [0.44265087],\n",
              "       [0.44051022],\n",
              "       [0.45136626],\n",
              "       [0.43236278],\n",
              "       [0.44645155],\n",
              "       [0.45448987],\n",
              "       [0.48122583],\n",
              "       [0.47770906],\n",
              "       [0.47434526],\n",
              "       [0.46698414],\n",
              "       [0.44203927],\n",
              "       [0.426902  ],\n",
              "       [0.39512021],\n",
              "       [0.40630395],\n",
              "       [0.39221511],\n",
              "       [0.40595445],\n",
              "       [0.41947535],\n",
              "       [0.42251151],\n",
              "       [0.41084729],\n",
              "       [0.39415911],\n",
              "       [0.40567048],\n",
              "       [0.40543017],\n",
              "       [0.43723375],\n",
              "       [0.43817306],\n",
              "       [0.41868896],\n",
              "       [0.40232848],\n",
              "       [0.41855791],\n",
              "       [0.44177716],\n",
              "       [0.46720252],\n",
              "       [0.47178959],\n",
              "       [0.4801992 ],\n",
              "       [0.51147857],\n",
              "       [0.5075905 ],\n",
              "       [0.48922042],\n",
              "       [0.50682598],\n",
              "       [0.45765709],\n",
              "       [0.46604484],\n",
              "       [0.48308251],\n",
              "       [0.54992248],\n",
              "       [0.53080975],\n",
              "       [0.56776828],\n",
              "       [0.56634849],\n",
              "       [0.58736156],\n",
              "       [0.59823946],\n",
              "       [0.68773067],\n",
              "       [0.63698914],\n",
              "       [0.63563487],\n",
              "       [0.6320963 ],\n",
              "       [0.64111752],\n",
              "       [0.56597712],\n",
              "       [0.58655338],\n",
              "       [0.5596645 ],\n",
              "       [0.55905289],\n",
              "       [0.53231686],\n",
              "       [0.5385859 ],\n",
              "       [0.5717874 ],\n",
              "       [0.55619145],\n",
              "       [0.54738867],\n",
              "       [0.55027191],\n",
              "       [0.55699963],\n",
              "       [0.57827481],\n",
              "       [0.60234598],\n",
              "       [0.58589804],\n",
              "       [0.6011227 ],\n",
              "       [0.56977787],\n",
              "       [0.54498591],\n",
              "       [0.50905395],\n",
              "       [0.527708  ],\n",
              "       [0.54050804],\n",
              "       [0.54345687],\n",
              "       [0.54273608],\n",
              "       [0.5635307 ],\n",
              "       [0.54749786],\n",
              "       [0.57670211],\n",
              "       [0.56449181],\n",
              "       [0.55684672],\n",
              "       [0.56071292],\n",
              "       [0.6851096 ],\n",
              "       [0.6386711 ],\n",
              "       [0.63347243],\n",
              "       [0.64585744],\n",
              "       [0.70481201],\n",
              "       [0.69670829],\n",
              "       [0.63753522],\n",
              "       [0.61634736],\n",
              "       [0.59662302],\n",
              "       [0.5817042 ],\n",
              "       [0.53906645],\n",
              "       [0.54203708],\n",
              "       [0.52943362],\n",
              "       [0.57253006],\n",
              "       [0.54603434],\n",
              "       [0.51619669],\n",
              "       [0.51567241],\n",
              "       [0.55365764],\n",
              "       [0.56200172],\n",
              "       [0.5170922 ],\n",
              "       [0.52248746],\n",
              "       [0.54389376],\n",
              "       [0.56086584],\n",
              "       [0.56704748],\n",
              "       [0.5813547 ],\n",
              "       [0.64137963],\n",
              "       [0.58797317],\n",
              "       [0.62639528],\n",
              "       [0.59411108],\n",
              "       [0.65699738],\n",
              "       [0.65072841],\n",
              "       [0.66743845],\n",
              "       [0.66824664],\n",
              "       [0.69943868],\n",
              "       [0.67182894],\n",
              "       [0.67289924],\n",
              "       [0.6485441 ],\n",
              "       [0.64839118],\n",
              "       [0.63681436],\n",
              "       [0.55737093],\n",
              "       [0.54902691],\n",
              "       [0.55568903],\n",
              "       [0.55560164],\n",
              "       [0.55710882],\n",
              "       [0.55123302],\n",
              "       [0.59048511],\n",
              "       [0.52829774],\n",
              "       [0.54660228],\n",
              "       [0.55337367],\n",
              "       [0.57462705],\n",
              "       [0.61134533],\n",
              "       [0.61346405],\n",
              "       [0.51685196],\n",
              "       [0.53812714],\n",
              "       [0.56110615],\n",
              "       [0.5523907 ],\n",
              "       [0.54380637],\n",
              "       [0.53563706],\n",
              "       [0.53897906],\n",
              "       [0.54151287],\n",
              "       [0.5478037 ],\n",
              "       [0.55560164]])"
            ]
          },
          "metadata": {},
          "execution_count": 13
        }
      ],
      "source": [
        "train_data"
      ]
    },
    {
      "cell_type": "code",
      "execution_count": 13,
      "id": "635d000f-6717-44be-8a95-8243a1b350b1",
      "metadata": {
        "id": "635d000f-6717-44be-8a95-8243a1b350b1"
      },
      "outputs": [],
      "source": []
    },
    {
      "cell_type": "code",
      "execution_count": 13,
      "id": "fbed359f-6c20-4fee-9adf-6996158446b3",
      "metadata": {
        "id": "fbed359f-6c20-4fee-9adf-6996158446b3"
      },
      "outputs": [],
      "source": []
    },
    {
      "cell_type": "markdown",
      "id": "51e5bac4-b677-497a-b629-69fd3806091c",
      "metadata": {
        "id": "51e5bac4-b677-497a-b629-69fd3806091c"
      },
      "source": [
        "### Matrix of values"
      ]
    },
    {
      "cell_type": "code",
      "execution_count": 14,
      "id": "4ff63991-7193-4ee6-bb6d-9c21594e0590",
      "metadata": {
        "id": "4ff63991-7193-4ee6-bb6d-9c21594e0590"
      },
      "outputs": [],
      "source": [
        "def create_dataset(dataset, time_step=1):\n",
        "\tdataX, dataY = [], []\n",
        "\tfor i in range(len(dataset)-time_step-1):\n",
        "\t\ta = dataset[i:(i+time_step), 0]   ###i=0, 0,1,2,3-----99   100\n",
        "\t\tdataX.append(a)\n",
        "\t\tdataY.append(dataset[i + time_step, 0])\n",
        "\treturn numpy.array(dataX), numpy.array(dataY)"
      ]
    },
    {
      "cell_type": "markdown",
      "id": "89944e5b-a0de-4c1f-881f-2c0307127753",
      "metadata": {
        "id": "89944e5b-a0de-4c1f-881f-2c0307127753"
      },
      "source": [
        "### Reshape"
      ]
    },
    {
      "cell_type": "code",
      "execution_count": 15,
      "id": "0a46cb3d-2c9b-4f16-aa51-3afc72d4ce75",
      "metadata": {
        "id": "0a46cb3d-2c9b-4f16-aa51-3afc72d4ce75"
      },
      "outputs": [],
      "source": [
        "time_step = 100\n",
        "X_train, y_train = create_dataset(train_data, time_step)\n",
        "X_test, ytest = create_dataset(test_data, time_step)"
      ]
    },
    {
      "cell_type": "code",
      "execution_count": 16,
      "id": "4b0508b5-9930-4dae-af48-69372205b8ca",
      "metadata": {
        "colab": {
          "base_uri": "https://localhost:8080/"
        },
        "id": "4b0508b5-9930-4dae-af48-69372205b8ca",
        "outputId": "a471b81f-d49c-4d7a-f9ce-52444f78582c"
      },
      "outputs": [
        {
          "output_type": "stream",
          "name": "stdout",
          "text": [
            "(605, 100)\n"
          ]
        }
      ],
      "source": [
        "print(X_train.shape)"
      ]
    },
    {
      "cell_type": "code",
      "execution_count": 17,
      "id": "a1b076f0-b26b-451e-b4c3-9b94b3f0931c",
      "metadata": {
        "colab": {
          "base_uri": "https://localhost:8080/"
        },
        "id": "a1b076f0-b26b-451e-b4c3-9b94b3f0931c",
        "outputId": "c3f311f2-ea92-4237-e384-12c8da9bc9c7"
      },
      "outputs": [
        {
          "output_type": "stream",
          "name": "stdout",
          "text": [
            "(605,)\n"
          ]
        }
      ],
      "source": [
        "print(y_train.shape)"
      ]
    },
    {
      "cell_type": "code",
      "execution_count": 18,
      "id": "0425fa11-ea60-41c6-b96f-c33723ef85f7",
      "metadata": {
        "colab": {
          "base_uri": "https://localhost:8080/"
        },
        "id": "0425fa11-ea60-41c6-b96f-c33723ef85f7",
        "outputId": "9fbead3c-8a65-443e-b40e-095c0ec3a354"
      },
      "outputs": [
        {
          "output_type": "stream",
          "name": "stdout",
          "text": [
            "(202, 100)\n"
          ]
        }
      ],
      "source": [
        "print(X_test.shape)"
      ]
    },
    {
      "cell_type": "code",
      "execution_count": 19,
      "id": "558c054c-13cf-4a62-af3e-558c2d94c37a",
      "metadata": {
        "colab": {
          "base_uri": "https://localhost:8080/"
        },
        "id": "558c054c-13cf-4a62-af3e-558c2d94c37a",
        "outputId": "de7ed28e-e782-49fa-fa55-13ddd43da693"
      },
      "outputs": [
        {
          "output_type": "stream",
          "name": "stdout",
          "text": [
            "(202,)\n"
          ]
        }
      ],
      "source": [
        "print(ytest.shape)"
      ]
    },
    {
      "cell_type": "code",
      "execution_count": 20,
      "id": "b8dce406-1d73-45d4-9344-fe30763ab85c",
      "metadata": {
        "id": "b8dce406-1d73-45d4-9344-fe30763ab85c"
      },
      "outputs": [],
      "source": [
        "X_train =X_train.reshape(X_train.shape[0],X_train.shape[1] , 1)\n",
        "X_test = X_test.reshape(X_test.shape[0],X_test.shape[1] , 1)"
      ]
    },
    {
      "cell_type": "code",
      "execution_count": 20,
      "id": "6952d5df-937c-4e25-8380-9eabd4293639",
      "metadata": {
        "id": "6952d5df-937c-4e25-8380-9eabd4293639"
      },
      "outputs": [],
      "source": []
    },
    {
      "cell_type": "markdown",
      "id": "9a568bbb-7d0a-4f52-983d-50d4c892eeeb",
      "metadata": {
        "id": "9a568bbb-7d0a-4f52-983d-50d4c892eeeb"
      },
      "source": [
        "### LSTM Model implementation\n"
      ]
    },
    {
      "cell_type": "code",
      "execution_count": 110,
      "id": "fd82f5be-7e57-4ca3-98ad-52a3ee2e00b0",
      "metadata": {
        "id": "fd82f5be-7e57-4ca3-98ad-52a3ee2e00b0"
      },
      "outputs": [],
      "source": [
        "model=Sequential()\n",
        "\n",
        "# model.add(LSTM(640,return_sequences=True,input_shape=(100,1)))\n",
        "# model.add(LSTM(320,return_sequences=True))\n",
        "\n",
        "\n",
        "model.add(LSTM(128, return_sequences=True , input_shape=(100,1), kernel_regularizer=l2(0.001)))\n",
        "model.add(Dropout(0.3))\n",
        "model.add(LSTM(64, return_sequences=False ,kernel_regularizer=l2(0.001)))\n",
        "model.add(Dropout(0.4))\n",
        "model.add(Dense(320, activation='relu'))\n",
        "model.add(Dropout(0.5))\n",
        "model.add(Dense(264, activation='relu'))\n",
        "\n",
        "\n",
        "model.add(Dense(1))\n",
        "\n",
        "model.compile(loss='mean_squared_error',optimizer=keras.optimizers.Adam(learning_rate = 0.0001))"
      ]
    },
    {
      "cell_type": "code",
      "execution_count": 111,
      "id": "6e5d340e-c28f-4180-b8d0-10b535fc50d1",
      "metadata": {
        "colab": {
          "base_uri": "https://localhost:8080/",
          "height": 397
        },
        "id": "6e5d340e-c28f-4180-b8d0-10b535fc50d1",
        "outputId": "4359b631-dfae-4800-e400-45506405050a"
      },
      "outputs": [
        {
          "output_type": "display_data",
          "data": {
            "text/plain": [
              "\u001b[1mModel: \"sequential_7\"\u001b[0m\n"
            ],
            "text/html": [
              "<pre style=\"white-space:pre;overflow-x:auto;line-height:normal;font-family:Menlo,'DejaVu Sans Mono',consolas,'Courier New',monospace\"><span style=\"font-weight: bold\">Model: \"sequential_7\"</span>\n",
              "</pre>\n"
            ]
          },
          "metadata": {}
        },
        {
          "output_type": "display_data",
          "data": {
            "text/plain": [
              "┏━━━━━━━━━━━━━━━━━━━━━━━━━━━━━━━━━━━━━━┳━━━━━━━━━━━━━━━━━━━━━━━━━━━━━┳━━━━━━━━━━━━━━━━━┓\n",
              "┃\u001b[1m \u001b[0m\u001b[1mLayer (type)                        \u001b[0m\u001b[1m \u001b[0m┃\u001b[1m \u001b[0m\u001b[1mOutput Shape               \u001b[0m\u001b[1m \u001b[0m┃\u001b[1m \u001b[0m\u001b[1m        Param #\u001b[0m\u001b[1m \u001b[0m┃\n",
              "┡━━━━━━━━━━━━━━━━━━━━━━━━━━━━━━━━━━━━━━╇━━━━━━━━━━━━━━━━━━━━━━━━━━━━━╇━━━━━━━━━━━━━━━━━┩\n",
              "│ lstm_10 (\u001b[38;5;33mLSTM\u001b[0m)                       │ (\u001b[38;5;45mNone\u001b[0m, \u001b[38;5;34m100\u001b[0m, \u001b[38;5;34m128\u001b[0m)            │          \u001b[38;5;34m66,560\u001b[0m │\n",
              "├──────────────────────────────────────┼─────────────────────────────┼─────────────────┤\n",
              "│ dropout (\u001b[38;5;33mDropout\u001b[0m)                    │ (\u001b[38;5;45mNone\u001b[0m, \u001b[38;5;34m100\u001b[0m, \u001b[38;5;34m128\u001b[0m)            │               \u001b[38;5;34m0\u001b[0m │\n",
              "├──────────────────────────────────────┼─────────────────────────────┼─────────────────┤\n",
              "│ lstm_11 (\u001b[38;5;33mLSTM\u001b[0m)                       │ (\u001b[38;5;45mNone\u001b[0m, \u001b[38;5;34m64\u001b[0m)                  │          \u001b[38;5;34m49,408\u001b[0m │\n",
              "├──────────────────────────────────────┼─────────────────────────────┼─────────────────┤\n",
              "│ dropout_1 (\u001b[38;5;33mDropout\u001b[0m)                  │ (\u001b[38;5;45mNone\u001b[0m, \u001b[38;5;34m64\u001b[0m)                  │               \u001b[38;5;34m0\u001b[0m │\n",
              "├──────────────────────────────────────┼─────────────────────────────┼─────────────────┤\n",
              "│ dense_9 (\u001b[38;5;33mDense\u001b[0m)                      │ (\u001b[38;5;45mNone\u001b[0m, \u001b[38;5;34m320\u001b[0m)                 │          \u001b[38;5;34m20,800\u001b[0m │\n",
              "├──────────────────────────────────────┼─────────────────────────────┼─────────────────┤\n",
              "│ dropout_2 (\u001b[38;5;33mDropout\u001b[0m)                  │ (\u001b[38;5;45mNone\u001b[0m, \u001b[38;5;34m320\u001b[0m)                 │               \u001b[38;5;34m0\u001b[0m │\n",
              "├──────────────────────────────────────┼─────────────────────────────┼─────────────────┤\n",
              "│ dense_10 (\u001b[38;5;33mDense\u001b[0m)                     │ (\u001b[38;5;45mNone\u001b[0m, \u001b[38;5;34m264\u001b[0m)                 │          \u001b[38;5;34m84,744\u001b[0m │\n",
              "├──────────────────────────────────────┼─────────────────────────────┼─────────────────┤\n",
              "│ dense_11 (\u001b[38;5;33mDense\u001b[0m)                     │ (\u001b[38;5;45mNone\u001b[0m, \u001b[38;5;34m1\u001b[0m)                   │             \u001b[38;5;34m265\u001b[0m │\n",
              "└──────────────────────────────────────┴─────────────────────────────┴─────────────────┘\n"
            ],
            "text/html": [
              "<pre style=\"white-space:pre;overflow-x:auto;line-height:normal;font-family:Menlo,'DejaVu Sans Mono',consolas,'Courier New',monospace\">┏━━━━━━━━━━━━━━━━━━━━━━━━━━━━━━━━━━━━━━┳━━━━━━━━━━━━━━━━━━━━━━━━━━━━━┳━━━━━━━━━━━━━━━━━┓\n",
              "┃<span style=\"font-weight: bold\"> Layer (type)                         </span>┃<span style=\"font-weight: bold\"> Output Shape                </span>┃<span style=\"font-weight: bold\">         Param # </span>┃\n",
              "┡━━━━━━━━━━━━━━━━━━━━━━━━━━━━━━━━━━━━━━╇━━━━━━━━━━━━━━━━━━━━━━━━━━━━━╇━━━━━━━━━━━━━━━━━┩\n",
              "│ lstm_10 (<span style=\"color: #0087ff; text-decoration-color: #0087ff\">LSTM</span>)                       │ (<span style=\"color: #00d7ff; text-decoration-color: #00d7ff\">None</span>, <span style=\"color: #00af00; text-decoration-color: #00af00\">100</span>, <span style=\"color: #00af00; text-decoration-color: #00af00\">128</span>)            │          <span style=\"color: #00af00; text-decoration-color: #00af00\">66,560</span> │\n",
              "├──────────────────────────────────────┼─────────────────────────────┼─────────────────┤\n",
              "│ dropout (<span style=\"color: #0087ff; text-decoration-color: #0087ff\">Dropout</span>)                    │ (<span style=\"color: #00d7ff; text-decoration-color: #00d7ff\">None</span>, <span style=\"color: #00af00; text-decoration-color: #00af00\">100</span>, <span style=\"color: #00af00; text-decoration-color: #00af00\">128</span>)            │               <span style=\"color: #00af00; text-decoration-color: #00af00\">0</span> │\n",
              "├──────────────────────────────────────┼─────────────────────────────┼─────────────────┤\n",
              "│ lstm_11 (<span style=\"color: #0087ff; text-decoration-color: #0087ff\">LSTM</span>)                       │ (<span style=\"color: #00d7ff; text-decoration-color: #00d7ff\">None</span>, <span style=\"color: #00af00; text-decoration-color: #00af00\">64</span>)                  │          <span style=\"color: #00af00; text-decoration-color: #00af00\">49,408</span> │\n",
              "├──────────────────────────────────────┼─────────────────────────────┼─────────────────┤\n",
              "│ dropout_1 (<span style=\"color: #0087ff; text-decoration-color: #0087ff\">Dropout</span>)                  │ (<span style=\"color: #00d7ff; text-decoration-color: #00d7ff\">None</span>, <span style=\"color: #00af00; text-decoration-color: #00af00\">64</span>)                  │               <span style=\"color: #00af00; text-decoration-color: #00af00\">0</span> │\n",
              "├──────────────────────────────────────┼─────────────────────────────┼─────────────────┤\n",
              "│ dense_9 (<span style=\"color: #0087ff; text-decoration-color: #0087ff\">Dense</span>)                      │ (<span style=\"color: #00d7ff; text-decoration-color: #00d7ff\">None</span>, <span style=\"color: #00af00; text-decoration-color: #00af00\">320</span>)                 │          <span style=\"color: #00af00; text-decoration-color: #00af00\">20,800</span> │\n",
              "├──────────────────────────────────────┼─────────────────────────────┼─────────────────┤\n",
              "│ dropout_2 (<span style=\"color: #0087ff; text-decoration-color: #0087ff\">Dropout</span>)                  │ (<span style=\"color: #00d7ff; text-decoration-color: #00d7ff\">None</span>, <span style=\"color: #00af00; text-decoration-color: #00af00\">320</span>)                 │               <span style=\"color: #00af00; text-decoration-color: #00af00\">0</span> │\n",
              "├──────────────────────────────────────┼─────────────────────────────┼─────────────────┤\n",
              "│ dense_10 (<span style=\"color: #0087ff; text-decoration-color: #0087ff\">Dense</span>)                     │ (<span style=\"color: #00d7ff; text-decoration-color: #00d7ff\">None</span>, <span style=\"color: #00af00; text-decoration-color: #00af00\">264</span>)                 │          <span style=\"color: #00af00; text-decoration-color: #00af00\">84,744</span> │\n",
              "├──────────────────────────────────────┼─────────────────────────────┼─────────────────┤\n",
              "│ dense_11 (<span style=\"color: #0087ff; text-decoration-color: #0087ff\">Dense</span>)                     │ (<span style=\"color: #00d7ff; text-decoration-color: #00d7ff\">None</span>, <span style=\"color: #00af00; text-decoration-color: #00af00\">1</span>)                   │             <span style=\"color: #00af00; text-decoration-color: #00af00\">265</span> │\n",
              "└──────────────────────────────────────┴─────────────────────────────┴─────────────────┘\n",
              "</pre>\n"
            ]
          },
          "metadata": {}
        },
        {
          "output_type": "display_data",
          "data": {
            "text/plain": [
              "\u001b[1m Total params: \u001b[0m\u001b[38;5;34m221,777\u001b[0m (866.32 KB)\n"
            ],
            "text/html": [
              "<pre style=\"white-space:pre;overflow-x:auto;line-height:normal;font-family:Menlo,'DejaVu Sans Mono',consolas,'Courier New',monospace\"><span style=\"font-weight: bold\"> Total params: </span><span style=\"color: #00af00; text-decoration-color: #00af00\">221,777</span> (866.32 KB)\n",
              "</pre>\n"
            ]
          },
          "metadata": {}
        },
        {
          "output_type": "display_data",
          "data": {
            "text/plain": [
              "\u001b[1m Trainable params: \u001b[0m\u001b[38;5;34m221,777\u001b[0m (866.32 KB)\n"
            ],
            "text/html": [
              "<pre style=\"white-space:pre;overflow-x:auto;line-height:normal;font-family:Menlo,'DejaVu Sans Mono',consolas,'Courier New',monospace\"><span style=\"font-weight: bold\"> Trainable params: </span><span style=\"color: #00af00; text-decoration-color: #00af00\">221,777</span> (866.32 KB)\n",
              "</pre>\n"
            ]
          },
          "metadata": {}
        },
        {
          "output_type": "display_data",
          "data": {
            "text/plain": [
              "\u001b[1m Non-trainable params: \u001b[0m\u001b[38;5;34m0\u001b[0m (0.00 B)\n"
            ],
            "text/html": [
              "<pre style=\"white-space:pre;overflow-x:auto;line-height:normal;font-family:Menlo,'DejaVu Sans Mono',consolas,'Courier New',monospace\"><span style=\"font-weight: bold\"> Non-trainable params: </span><span style=\"color: #00af00; text-decoration-color: #00af00\">0</span> (0.00 B)\n",
              "</pre>\n"
            ]
          },
          "metadata": {}
        }
      ],
      "source": [
        "model.summary()"
      ]
    },
    {
      "cell_type": "code",
      "execution_count": 112,
      "id": "71f87c34-3c19-45c2-bc1e-4a754065c820",
      "metadata": {
        "colab": {
          "base_uri": "https://localhost:8080/"
        },
        "id": "71f87c34-3c19-45c2-bc1e-4a754065c820",
        "outputId": "5fbf4dc7-d15f-4652-cab4-e87cdacaff9d"
      },
      "outputs": [
        {
          "output_type": "stream",
          "name": "stdout",
          "text": [
            "Epoch 1/20\n",
            "\u001b[1m10/10\u001b[0m \u001b[32m━━━━━━━━━━━━━━━━━━━━\u001b[0m\u001b[37m\u001b[0m \u001b[1m6s\u001b[0m 280ms/step - loss: 0.2852 - val_loss: 0.5859\n",
            "Epoch 2/20\n",
            "\u001b[1m10/10\u001b[0m \u001b[32m━━━━━━━━━━━━━━━━━━━━\u001b[0m\u001b[37m\u001b[0m \u001b[1m4s\u001b[0m 210ms/step - loss: 0.2472 - val_loss: 0.4354\n",
            "Epoch 3/20\n",
            "\u001b[1m10/10\u001b[0m \u001b[32m━━━━━━━━━━━━━━━━━━━━\u001b[0m\u001b[37m\u001b[0m \u001b[1m2s\u001b[0m 196ms/step - loss: 0.2044 - val_loss: 0.2405\n",
            "Epoch 4/20\n",
            "\u001b[1m10/10\u001b[0m \u001b[32m━━━━━━━━━━━━━━━━━━━━\u001b[0m\u001b[37m\u001b[0m \u001b[1m3s\u001b[0m 208ms/step - loss: 0.1716 - val_loss: 0.1731\n",
            "Epoch 5/20\n",
            "\u001b[1m10/10\u001b[0m \u001b[32m━━━━━━━━━━━━━━━━━━━━\u001b[0m\u001b[37m\u001b[0m \u001b[1m2s\u001b[0m 207ms/step - loss: 0.1681 - val_loss: 0.2059\n",
            "Epoch 6/20\n",
            "\u001b[1m10/10\u001b[0m \u001b[32m━━━━━━━━━━━━━━━━━━━━\u001b[0m\u001b[37m\u001b[0m \u001b[1m3s\u001b[0m 206ms/step - loss: 0.1631 - val_loss: 0.2076\n",
            "Epoch 7/20\n",
            "\u001b[1m10/10\u001b[0m \u001b[32m━━━━━━━━━━━━━━━━━━━━\u001b[0m\u001b[37m\u001b[0m \u001b[1m3s\u001b[0m 209ms/step - loss: 0.1590 - val_loss: 0.1840\n",
            "Epoch 8/20\n",
            "\u001b[1m10/10\u001b[0m \u001b[32m━━━━━━━━━━━━━━━━━━━━\u001b[0m\u001b[37m\u001b[0m \u001b[1m3s\u001b[0m 270ms/step - loss: 0.1563 - val_loss: 0.1757\n"
          ]
        }
      ],
      "source": [
        "early_stopping = EarlyStopping(monitor='val_loss', patience=4, restore_best_weights=True)\n",
        "\n",
        "\n",
        "history = model.fit(X_train,y_train,validation_data=(X_test,ytest),epochs=20,shuffle = True, callbacks=[early_stopping],batch_size=64,verbose=1,)"
      ]
    },
    {
      "cell_type": "code",
      "source": [],
      "metadata": {
        "id": "9RsHPHV1Sd2j"
      },
      "id": "9RsHPHV1Sd2j",
      "execution_count": null,
      "outputs": []
    },
    {
      "cell_type": "code",
      "source": [],
      "metadata": {
        "id": "yKK0rSKHSdw2"
      },
      "id": "yKK0rSKHSdw2",
      "execution_count": null,
      "outputs": []
    },
    {
      "cell_type": "code",
      "execution_count": 113,
      "id": "f7cd2e6d-912a-4c17-a5fc-36d84b2af1c6",
      "metadata": {
        "colab": {
          "base_uri": "https://localhost:8080/",
          "height": 430
        },
        "id": "f7cd2e6d-912a-4c17-a5fc-36d84b2af1c6",
        "outputId": "41151399-a5ec-4c18-ca82-aa67b70080fc"
      },
      "outputs": [
        {
          "output_type": "display_data",
          "data": {
            "text/plain": [
              "<Figure size 640x480 with 1 Axes>"
            ],
            "image/png": "[encoded data removed]"
          },
          "metadata": {}
        }
      ],
      "source": [
        "plt.plot(history.history['loss'] , color = 'red', label = 'train')\n",
        "plt.plot(history.history['val_loss'] , color = 'blue', label = 'test')\n",
        "plt.legend()\n",
        "plt.show()"
      ]
    },
    {
      "cell_type": "markdown",
      "id": "2bdcb2ff-a826-4400-beb7-94d498c2f2c9",
      "metadata": {
        "id": "2bdcb2ff-a826-4400-beb7-94d498c2f2c9"
      },
      "source": [
        "### Performance matrix"
      ]
    },
    {
      "cell_type": "code",
      "execution_count": 114,
      "id": "19090bf2-52f2-40dc-9cc5-b982163d56fb",
      "metadata": {
        "colab": {
          "base_uri": "https://localhost:8080/"
        },
        "id": "19090bf2-52f2-40dc-9cc5-b982163d56fb",
        "outputId": "5c13cb43-ce13-442c-8f93-09ec7b418c51"
      },
      "outputs": [
        {
          "output_type": "stream",
          "name": "stdout",
          "text": [
            "\u001b[1m19/19\u001b[0m \u001b[32m━━━━━━━━━━━━━━━━━━━━\u001b[0m\u001b[37m\u001b[0m \u001b[1m1s\u001b[0m 45ms/step\n",
            "\u001b[1m7/7\u001b[0m \u001b[32m━━━━━━━━━━━━━━━━━━━━\u001b[0m\u001b[37m\u001b[0m \u001b[1m0s\u001b[0m 34ms/step\n"
          ]
        }
      ],
      "source": [
        "train_predict=model.predict(X_train)\n",
        "test_predict=model.predict(X_test)"
      ]
    },
    {
      "cell_type": "code",
      "execution_count": 115,
      "id": "187ae176-5a6a-48bb-91f4-9508363b63da",
      "metadata": {
        "id": "187ae176-5a6a-48bb-91f4-9508363b63da"
      },
      "outputs": [],
      "source": [
        "train_predict=scaler.inverse_transform(train_predict)\n",
        "test_predict=scaler.inverse_transform(test_predict)"
      ]
    },
    {
      "cell_type": "code",
      "execution_count": 116,
      "id": "0386bd32-d118-4c1a-90b3-5806d1281f18",
      "metadata": {
        "colab": {
          "base_uri": "https://localhost:8080/"
        },
        "id": "0386bd32-d118-4c1a-90b3-5806d1281f18",
        "outputId": "85b445ad-7696-4d5c-b44b-a18bd36e469e"
      },
      "outputs": [
        {
          "output_type": "execute_result",
          "data": {
            "text/plain": [
              "392.26825751509904"
            ]
          },
          "metadata": {},
          "execution_count": 116
        }
      ],
      "source": [
        "math.sqrt(mean_squared_error(y_train,train_predict))"
      ]
    },
    {
      "cell_type": "code",
      "execution_count": 117,
      "id": "160d9368-65e2-47ae-b671-716ea4d68345",
      "metadata": {
        "colab": {
          "base_uri": "https://localhost:8080/"
        },
        "id": "160d9368-65e2-47ae-b671-716ea4d68345",
        "outputId": "78da0207-0ac0-442c-b2d9-819a18f74b28"
      },
      "outputs": [
        {
          "output_type": "execute_result",
          "data": {
            "text/plain": [
              "530.9322388005487"
            ]
          },
          "metadata": {},
          "execution_count": 117
        }
      ],
      "source": [
        "math.sqrt(mean_squared_error(ytest,test_predict))"
      ]
    },
    {
      "cell_type": "code",
      "execution_count": 117,
      "id": "5b0b7f0d-b5c4-451b-8e55-dbc84e10be2b",
      "metadata": {
        "id": "5b0b7f0d-b5c4-451b-8e55-dbc84e10be2b"
      },
      "outputs": [],
      "source": []
    },
    {
      "cell_type": "markdown",
      "id": "6b96ffbf-3a9f-46f6-9aa4-18de44a15c79",
      "metadata": {
        "id": "6b96ffbf-3a9f-46f6-9aa4-18de44a15c79"
      },
      "source": [
        "### Prediction plotting"
      ]
    },
    {
      "cell_type": "code",
      "execution_count": 118,
      "id": "61801e73-4a2a-438e-8495-b2ced5dabc1b",
      "metadata": {
        "colab": {
          "base_uri": "https://localhost:8080/",
          "height": 430
        },
        "id": "61801e73-4a2a-438e-8495-b2ced5dabc1b",
        "outputId": "8d586f48-bcd7-4935-897e-d23ada9c2009"
      },
      "outputs": [
        {
          "output_type": "display_data",
          "data": {
            "text/plain": [
              "<Figure size 640x480 with 1 Axes>"
            ],
            "image/png": "[encoded data removed]"
          },
          "metadata": {}
        }
      ],
      "source": [
        "look_back=100\n",
        "trainPredictPlot = numpy.empty_like(df1)\n",
        "trainPredictPlot[:, :] = np.nan\n",
        "trainPredictPlot[look_back:len(train_predict)+look_back, :] = train_predict\n",
        "# shift test predictions for plotting\n",
        "testPredictPlot = numpy.empty_like(df1)\n",
        "testPredictPlot[:, :] = numpy.nan\n",
        "testPredictPlot[len(train_predict)+(look_back*2)+1:len(df1)-1, :] = test_predict\n",
        "# plot baseline and predictions\n",
        "plt.plot(scaler.inverse_transform(df1))\n",
        "plt.plot(trainPredictPlot)\n",
        "plt.plot(testPredictPlot)\n",
        "plt.show()"
      ]
    },
    {
      "cell_type": "code",
      "execution_count": 119,
      "id": "e4375c0f-f06c-45e0-b98b-85eda465c1b4",
      "metadata": {
        "colab": {
          "base_uri": "https://localhost:8080/"
        },
        "id": "e4375c0f-f06c-45e0-b98b-85eda465c1b4",
        "outputId": "b024c4b1-0925-4e20-b33b-c1dc9f8751a6"
      },
      "outputs": [
        {
          "output_type": "execute_result",
          "data": {
            "text/plain": [
              "303"
            ]
          },
          "metadata": {},
          "execution_count": 119
        }
      ],
      "source": [
        "len(test_data)"
      ]
    },
    {
      "cell_type": "code",
      "execution_count": 120,
      "id": "31c33b64-f41f-46b0-9a94-b76f81635e21",
      "metadata": {
        "colab": {
          "base_uri": "https://localhost:8080/"
        },
        "id": "31c33b64-f41f-46b0-9a94-b76f81635e21",
        "outputId": "ec515fc2-97f2-4b4c-efc6-4433176e9745"
      },
      "outputs": [
        {
          "output_type": "execute_result",
          "data": {
            "text/plain": [
              "(1, 100)"
            ]
          },
          "metadata": {},
          "execution_count": 120
        }
      ],
      "source": [
        "x_input=test_data[203:].reshape(1,-1)\n",
        "x_input.shape"
      ]
    },
    {
      "cell_type": "code",
      "execution_count": 121,
      "id": "6a80d769-ed2f-4da8-913f-4700dc296f82",
      "metadata": {
        "id": "6a80d769-ed2f-4da8-913f-4700dc296f82"
      },
      "outputs": [],
      "source": [
        "temp_input=list(x_input)\n",
        "temp_input=temp_input[0].tolist()"
      ]
    },
    {
      "cell_type": "code",
      "execution_count": 122,
      "id": "adddb93e-43f1-45b6-b095-8eb10e484096",
      "metadata": {
        "colab": {
          "base_uri": "https://localhost:8080/"
        },
        "id": "adddb93e-43f1-45b6-b095-8eb10e484096",
        "outputId": "f64f1b58-59b1-4f52-a819-83944632fb76"
      },
      "outputs": [
        {
          "output_type": "execute_result",
          "data": {
            "text/plain": [
              "[0.7623031220089325,\n",
              " 0.770232186519946,\n",
              " 0.7764574241046989,\n",
              " 0.7460518342503559,\n",
              " 0.741049807175792,\n",
              " 0.779297134920363,\n",
              " 0.7849981594001756,\n",
              " 0.7830978186350088,\n",
              " 0.7836438967059076,\n",
              " 0.7644437065449226,\n",
              " 0.797667144433283,\n",
              " 0.8223062503372986,\n",
              " 0.8284441613012656,\n",
              " 0.8070377960750383,\n",
              " 0.8757563085718285,\n",
              " 0.8851269602135838,\n",
              " 0.8692906961575151,\n",
              " 0.8710599825542908,\n",
              " 0.8587841584420446,\n",
              " 0.8541971550699885,\n",
              " 0.8647255577514177,\n",
              " 0.8735501313222742,\n",
              " 0.8615145487965392,\n",
              " 0.8826586764115594,\n",
              " 0.884908581408719,\n",
              " 0.854634045922767,\n",
              " 0.9158383843680022,\n",
              " 0.9412202154248719,\n",
              " 0.9562481616145222,\n",
              " 0.9493895237067091,\n",
              " 0.9371572940990189,\n",
              " 0.9614687007370002,\n",
              " 0.9969856403113886,\n",
              " 0.9770209932746399,\n",
              " 0.9694850896844873,\n",
              " 0.9925732858122798,\n",
              " 0.9491274149699269,\n",
              " 0.8995870966094257,\n",
              " 0.9121032955512327,\n",
              " 0.9220200252638868,\n",
              " 0.9021864325955293,\n",
              " 0.9254931407712357,\n",
              " 0.9801664073316425,\n",
              " 0.9730019329394415,\n",
              " 0.9906293483582447,\n",
              " 1.0,\n",
              " 0.9788777395352508,\n",
              " 0.9718441840840797,\n",
              " 0.9290317157490993,\n",
              " 0.9178043200310453,\n",
              " 0.9270439173044094,\n",
              " 0.943098693408392,\n",
              " 0.9391669575096673,\n",
              " 0.8912431394546414,\n",
              " 0.8385356753142286,\n",
              " 0.8356959623142521,\n",
              " 0.8043729984341079,\n",
              " 0.8274393295959415,\n",
              " 0.8555951476961738,\n",
              " 0.8610559284051631,\n",
              " 0.82374783746804,\n",
              " 0.8251894245987816,\n",
              " 0.8096808619930593,\n",
              " 0.7953299128153377,\n",
              " 0.8107292882029398,\n",
              " 0.7801926461645177,\n",
              " 0.7707345346589274,\n",
              " 0.786046585610056,\n",
              " 0.8104671816504696,\n",
              " 0.8308249874237674,\n",
              " 0.8304974214007823,\n",
              " 0.8283785685877016,\n",
              " 0.8231144349606676,\n",
              " 0.8227430057627159,\n",
              " 0.8261287968335911,\n",
              " 0.8050501286890859,\n",
              " 0.7939756501210697,\n",
              " 0.7803892910621608,\n",
              " 0.7287739830635458,\n",
              " 0.6976911275268634,\n",
              " 0.6709770319847339,\n",
              " 0.6683339660667129,\n",
              " 0.6704965466273991,\n",
              " 0.6625892138392948,\n",
              " 0.6232279960457043,\n",
              " 0.6374041609231176,\n",
              " 0.6048797204400058,\n",
              " 0.6159323340420633,\n",
              " 0.5993097503285842,\n",
              " 0.3573971649203631,\n",
              " 0.3347895196792742,\n",
              " 0.2895087675422692,\n",
              " 0.27483018681219396,\n",
              " 0.3338066184692773,\n",
              " 0.3286952687492317,\n",
              " 0.4221402137708232,\n",
              " 0.4876477173127347,\n",
              " 0.427251495777188,\n",
              " 0.3750901075233618,\n",
              " 0.38507242994958]"
            ]
          },
          "metadata": {},
          "execution_count": 122
        }
      ],
      "source": [
        "temp_input"
      ]
    },
    {
      "cell_type": "code",
      "execution_count": 123,
      "id": "05a049bd-dffa-4640-ac8b-17e97a884264",
      "metadata": {
        "colab": {
          "base_uri": "https://localhost:8080/"
        },
        "id": "05a049bd-dffa-4640-ac8b-17e97a884264",
        "outputId": "4bed22d2-5e36-4604-ac10-c4b055e3615a"
      },
      "outputs": [
        {
          "output_type": "stream",
          "name": "stdout",
          "text": [
            "[0.5085391]\n",
            "101\n",
            "1 day input [0.77023219 0.77645742 0.74605183 0.74104981 0.77929713 0.78499816\n",
            " 0.78309782 0.7836439  0.76444371 0.79766714 0.82230625 0.82844416\n",
            " 0.8070378  0.87575631 0.88512696 0.8692907  0.87105998 0.85878416\n",
            " 0.85419716 0.86472556 0.87355013 0.86151455 0.88265868 0.88490858\n",
            " 0.85463405 0.91583838 0.94122022 0.95624816 0.94938952 0.93715729\n",
            " 0.9614687  0.99698564 0.97702099 0.96948509 0.99257329 0.94912741\n",
            " 0.8995871  0.9121033  0.92202003 0.90218643 0.92549314 0.98016641\n",
            " 0.97300193 0.99062935 1.         0.97887774 0.97184418 0.92903172\n",
            " 0.91780432 0.92704392 0.94309869 0.93916696 0.89124314 0.83853568\n",
            " 0.83569596 0.804373   0.82743933 0.85559515 0.86105593 0.82374784\n",
            " 0.82518942 0.80968086 0.79532991 0.81072929 0.78019265 0.77073453\n",
            " 0.78604659 0.81046718 0.83082499 0.83049742 0.82837857 0.82311443\n",
            " 0.82274301 0.8261288  0.80505013 0.79397565 0.78038929 0.72877398\n",
            " 0.69769113 0.67097703 0.66833397 0.67049655 0.66258921 0.623228\n",
            " 0.63740416 0.60487972 0.61593233 0.59930975 0.35739716 0.33478952\n",
            " 0.28950877 0.27483019 0.33380662 0.32869527 0.42214021 0.48764772\n",
            " 0.4272515  0.37509011 0.38507243 0.50853908]\n",
            "1 day output [[0.4996744]]\n",
            "2 day input [0.77645742 0.74605183 0.74104981 0.77929713 0.78499816 0.78309782\n",
            " 0.7836439  0.76444371 0.79766714 0.82230625 0.82844416 0.8070378\n",
            " 0.87575631 0.88512696 0.8692907  0.87105998 0.85878416 0.85419716\n",
            " 0.86472556 0.87355013 0.86151455 0.88265868 0.88490858 0.85463405\n",
            " 0.91583838 0.94122022 0.95624816 0.94938952 0.93715729 0.9614687\n",
            " 0.99698564 0.97702099 0.96948509 0.99257329 0.94912741 0.8995871\n",
            " 0.9121033  0.92202003 0.90218643 0.92549314 0.98016641 0.97300193\n",
            " 0.99062935 1.         0.97887774 0.97184418 0.92903172 0.91780432\n",
            " 0.92704392 0.94309869 0.93916696 0.89124314 0.83853568 0.83569596\n",
            " 0.804373   0.82743933 0.85559515 0.86105593 0.82374784 0.82518942\n",
            " 0.80968086 0.79532991 0.81072929 0.78019265 0.77073453 0.78604659\n",
            " 0.81046718 0.83082499 0.83049742 0.82837857 0.82311443 0.82274301\n",
            " 0.8261288  0.80505013 0.79397565 0.78038929 0.72877398 0.69769113\n",
            " 0.67097703 0.66833397 0.67049655 0.66258921 0.623228   0.63740416\n",
            " 0.60487972 0.61593233 0.59930975 0.35739716 0.33478952 0.28950877\n",
            " 0.27483019 0.33380662 0.32869527 0.42214021 0.48764772 0.4272515\n",
            " 0.37509011 0.38507243 0.50853908 0.49967441]\n",
            "2 day output [[0.49273628]]\n",
            "3 day input [0.74605183 0.74104981 0.77929713 0.78499816 0.78309782 0.7836439\n",
            " 0.76444371 0.79766714 0.82230625 0.82844416 0.8070378  0.87575631\n",
            " 0.88512696 0.8692907  0.87105998 0.85878416 0.85419716 0.86472556\n",
            " 0.87355013 0.86151455 0.88265868 0.88490858 0.85463405 0.91583838\n",
            " 0.94122022 0.95624816 0.94938952 0.93715729 0.9614687  0.99698564\n",
            " 0.97702099 0.96948509 0.99257329 0.94912741 0.8995871  0.9121033\n",
            " 0.92202003 0.90218643 0.92549314 0.98016641 0.97300193 0.99062935\n",
            " 1.         0.97887774 0.97184418 0.92903172 0.91780432 0.92704392\n",
            " 0.94309869 0.93916696 0.89124314 0.83853568 0.83569596 0.804373\n",
            " 0.82743933 0.85559515 0.86105593 0.82374784 0.82518942 0.80968086\n",
            " 0.79532991 0.81072929 0.78019265 0.77073453 0.78604659 0.81046718\n",
            " 0.83082499 0.83049742 0.82837857 0.82311443 0.82274301 0.8261288\n",
            " 0.80505013 0.79397565 0.78038929 0.72877398 0.69769113 0.67097703\n",
            " 0.66833397 0.67049655 0.66258921 0.623228   0.63740416 0.60487972\n",
            " 0.61593233 0.59930975 0.35739716 0.33478952 0.28950877 0.27483019\n",
            " 0.33380662 0.32869527 0.42214021 0.48764772 0.4272515  0.37509011\n",
            " 0.38507243 0.50853908 0.49967441 0.49273628]\n",
            "3 day output [[0.48736858]]\n",
            "4 day input [0.74104981 0.77929713 0.78499816 0.78309782 0.7836439  0.76444371\n",
            " 0.79766714 0.82230625 0.82844416 0.8070378  0.87575631 0.88512696\n",
            " 0.8692907  0.87105998 0.85878416 0.85419716 0.86472556 0.87355013\n",
            " 0.86151455 0.88265868 0.88490858 0.85463405 0.91583838 0.94122022\n",
            " 0.95624816 0.94938952 0.93715729 0.9614687  0.99698564 0.97702099\n",
            " 0.96948509 0.99257329 0.94912741 0.8995871  0.9121033  0.92202003\n",
            " 0.90218643 0.92549314 0.98016641 0.97300193 0.99062935 1.\n",
            " 0.97887774 0.97184418 0.92903172 0.91780432 0.92704392 0.94309869\n",
            " 0.93916696 0.89124314 0.83853568 0.83569596 0.804373   0.82743933\n",
            " 0.85559515 0.86105593 0.82374784 0.82518942 0.80968086 0.79532991\n",
            " 0.81072929 0.78019265 0.77073453 0.78604659 0.81046718 0.83082499\n",
            " 0.83049742 0.82837857 0.82311443 0.82274301 0.8261288  0.80505013\n",
            " 0.79397565 0.78038929 0.72877398 0.69769113 0.67097703 0.66833397\n",
            " 0.67049655 0.66258921 0.623228   0.63740416 0.60487972 0.61593233\n",
            " 0.59930975 0.35739716 0.33478952 0.28950877 0.27483019 0.33380662\n",
            " 0.32869527 0.42214021 0.48764772 0.4272515  0.37509011 0.38507243\n",
            " 0.50853908 0.49967441 0.49273628 0.48736858]\n",
            "4 day output [[0.48325294]]\n",
            "5 day input [0.77929713 0.78499816 0.78309782 0.7836439  0.76444371 0.79766714\n",
            " 0.82230625 0.82844416 0.8070378  0.87575631 0.88512696 0.8692907\n",
            " 0.87105998 0.85878416 0.85419716 0.86472556 0.87355013 0.86151455\n",
            " 0.88265868 0.88490858 0.85463405 0.91583838 0.94122022 0.95624816\n",
            " 0.94938952 0.93715729 0.9614687  0.99698564 0.97702099 0.96948509\n",
            " 0.99257329 0.94912741 0.8995871  0.9121033  0.92202003 0.90218643\n",
            " 0.92549314 0.98016641 0.97300193 0.99062935 1.         0.97887774\n",
            " 0.97184418 0.92903172 0.91780432 0.92704392 0.94309869 0.93916696\n",
            " 0.89124314 0.83853568 0.83569596 0.804373   0.82743933 0.85559515\n",
            " 0.86105593 0.82374784 0.82518942 0.80968086 0.79532991 0.81072929\n",
            " 0.78019265 0.77073453 0.78604659 0.81046718 0.83082499 0.83049742\n",
            " 0.82837857 0.82311443 0.82274301 0.8261288  0.80505013 0.79397565\n",
            " 0.78038929 0.72877398 0.69769113 0.67097703 0.66833397 0.67049655\n",
            " 0.66258921 0.623228   0.63740416 0.60487972 0.61593233 0.59930975\n",
            " 0.35739716 0.33478952 0.28950877 0.27483019 0.33380662 0.32869527\n",
            " 0.42214021 0.48764772 0.4272515  0.37509011 0.38507243 0.50853908\n",
            " 0.49967441 0.49273628 0.48736858 0.48325294]\n",
            "5 day output [[0.48010993]]\n",
            "6 day input [0.78499816 0.78309782 0.7836439  0.76444371 0.79766714 0.82230625\n",
            " 0.82844416 0.8070378  0.87575631 0.88512696 0.8692907  0.87105998\n",
            " 0.85878416 0.85419716 0.86472556 0.87355013 0.86151455 0.88265868\n",
            " 0.88490858 0.85463405 0.91583838 0.94122022 0.95624816 0.94938952\n",
            " 0.93715729 0.9614687  0.99698564 0.97702099 0.96948509 0.99257329\n",
            " 0.94912741 0.8995871  0.9121033  0.92202003 0.90218643 0.92549314\n",
            " 0.98016641 0.97300193 0.99062935 1.         0.97887774 0.97184418\n",
            " 0.92903172 0.91780432 0.92704392 0.94309869 0.93916696 0.89124314\n",
            " 0.83853568 0.83569596 0.804373   0.82743933 0.85559515 0.86105593\n",
            " 0.82374784 0.82518942 0.80968086 0.79532991 0.81072929 0.78019265\n",
            " 0.77073453 0.78604659 0.81046718 0.83082499 0.83049742 0.82837857\n",
            " 0.82311443 0.82274301 0.8261288  0.80505013 0.79397565 0.78038929\n",
            " 0.72877398 0.69769113 0.67097703 0.66833397 0.67049655 0.66258921\n",
            " 0.623228   0.63740416 0.60487972 0.61593233 0.59930975 0.35739716\n",
            " 0.33478952 0.28950877 0.27483019 0.33380662 0.32869527 0.42214021\n",
            " 0.48764772 0.4272515  0.37509011 0.38507243 0.50853908 0.49967441\n",
            " 0.49273628 0.48736858 0.48325294 0.48010993]\n",
            "6 day output [[0.4777352]]\n",
            "[[0.508539080619812], [0.49967440962791443], [0.492736279964447], [0.4873685836791992], [0.48325294256210327], [0.48010993003845215], [0.4777351915836334]]\n"
          ]
        }
      ],
      "source": [
        "lst_output=[]\n",
        "n_steps=100\n",
        "i=0\n",
        "while(i<7):\n",
        "\n",
        "    if(len(temp_input)>100):\n",
        "        #print(temp_input)\n",
        "        x_input=np.array(temp_input[1:])\n",
        "        print(\"{} day input {}\".format(i,x_input))\n",
        "        x_input=x_input.reshape(1,-1)\n",
        "        x_input = x_input.reshape((1, n_steps, 1))\n",
        "        #print(x_input)\n",
        "        yhat = model.predict(x_input, verbose=0)\n",
        "        print(\"{} day output {}\".format(i,yhat))\n",
        "        temp_input.extend(yhat[0].tolist())\n",
        "        temp_input=temp_input[1:]\n",
        "        #print(temp_input)\n",
        "        lst_output.extend(yhat.tolist())\n",
        "        i=i+1\n",
        "    else:\n",
        "        x_input = x_input.reshape((1, n_steps,1))\n",
        "        yhat = model.predict(x_input, verbose=0)\n",
        "        print(yhat[0])\n",
        "        temp_input.extend(yhat[0].tolist())\n",
        "        print(len(temp_input))\n",
        "        lst_output.extend(yhat.tolist())\n",
        "        i=i+1\n",
        "\n",
        "\n",
        "print(lst_output)"
      ]
    },
    {
      "cell_type": "code",
      "execution_count": 124,
      "id": "052f944f-cc39-4d9c-8f9f-5f26e210d91d",
      "metadata": {
        "id": "052f944f-cc39-4d9c-8f9f-5f26e210d91d"
      },
      "outputs": [],
      "source": [
        "day_new=np.arange(1,101)\n",
        "day_pred=np.arange(101,108)"
      ]
    },
    {
      "cell_type": "code",
      "execution_count": 124,
      "id": "bf559573-aad3-4727-9864-44c732c72440",
      "metadata": {
        "id": "bf559573-aad3-4727-9864-44c732c72440"
      },
      "outputs": [],
      "source": []
    },
    {
      "cell_type": "code",
      "execution_count": 125,
      "id": "784b96a4-887a-43b9-ab67-aaa4e41d48c5",
      "metadata": {
        "colab": {
          "base_uri": "https://localhost:8080/"
        },
        "id": "784b96a4-887a-43b9-ab67-aaa4e41d48c5",
        "outputId": "62d6c109-442a-45df-92bf-d1e7808ec749"
      },
      "outputs": [
        {
          "output_type": "execute_result",
          "data": {
            "text/plain": [
              "1009"
            ]
          },
          "metadata": {},
          "execution_count": 125
        }
      ],
      "source": [
        "len(df1)"
      ]
    },
    {
      "cell_type": "code",
      "execution_count": 126,
      "id": "f632018c-a1ca-4cd9-be8c-547682765adb",
      "metadata": {
        "colab": {
          "base_uri": "https://localhost:8080/",
          "height": 447
        },
        "id": "f632018c-a1ca-4cd9-be8c-547682765adb",
        "outputId": "e82c14d0-4baf-4987-91dc-58cacb085d88"
      },
      "outputs": [
        {
          "output_type": "execute_result",
          "data": {
            "text/plain": [
              "[<matplotlib.lines.Line2D at 0x79f132388210>]"
            ]
          },
          "metadata": {},
          "execution_count": 126
        },
        {
          "output_type": "display_data",
          "data": {
            "text/plain": [
              "<Figure size 640x480 with 1 Axes>"
            ],
            "image/png": "[encoded data removed]"
          },
          "metadata": {}
        }
      ],
      "source": [
        "plt.plot(day_new,scaler.inverse_transform(df1[909:]))\n",
        "plt.plot(day_pred,scaler.inverse_transform(lst_output))"
      ]
    },
    {
      "cell_type": "code",
      "execution_count": 127,
      "id": "09a2e378-f7c4-4849-8a6f-414a3ae26e86",
      "metadata": {
        "colab": {
          "base_uri": "https://localhost:8080/",
          "height": 447
        },
        "id": "09a2e378-f7c4-4849-8a6f-414a3ae26e86",
        "outputId": "e5a03c68-7a9e-4e5e-c77a-168af60ed433"
      },
      "outputs": [
        {
          "output_type": "execute_result",
          "data": {
            "text/plain": [
              "[<matplotlib.lines.Line2D at 0x79f1323ebc10>]"
            ]
          },
          "metadata": {},
          "execution_count": 127
        },
        {
          "output_type": "display_data",
          "data": {
            "text/plain": [
              "<Figure size 640x480 with 1 Axes>"
            ],
            "image/png": "[encoded data removed]"
          },
          "metadata": {}
        }
      ],
      "source": [
        "df3=df1.tolist()\n",
        "df3.extend(lst_output)\n",
        "plt.plot(df3[1000:])"
      ]
    },
    {
      "cell_type": "code",
      "execution_count": 128,
      "id": "609ddb0d-fd86-4ce1-baf4-e9e529d81051",
      "metadata": {
        "id": "609ddb0d-fd86-4ce1-baf4-e9e529d81051"
      },
      "outputs": [],
      "source": [
        "df3=scaler.inverse_transform(df3).tolist()"
      ]
    },
    {
      "cell_type": "code",
      "execution_count": 129,
      "id": "2c50dbc3-453d-413d-b0a7-59439afa79e2",
      "metadata": {
        "colab": {
          "base_uri": "https://localhost:8080/",
          "height": 447
        },
        "id": "2c50dbc3-453d-413d-b0a7-59439afa79e2",
        "outputId": "92c46884-0dde-438a-91d5-6ff02fcf78c5"
      },
      "outputs": [
        {
          "output_type": "execute_result",
          "data": {
            "text/plain": [
              "[<matplotlib.lines.Line2D at 0x79f13224e910>]"
            ]
          },
          "metadata": {},
          "execution_count": 129
        },
        {
          "output_type": "display_data",
          "data": {
            "text/plain": [
              "<Figure size 640x480 with 1 Axes>"
            ],
            "image/png": "[encoded data removed]"
          },
          "metadata": {}
        }
      ],
      "source": [
        "plt.plot(df3)"
      ]
    },
    {
      "cell_type": "code",
      "execution_count": 129,
      "id": "7f0fe979-d9d1-4465-9bc1-a074dc620abd",
      "metadata": {
        "id": "7f0fe979-d9d1-4465-9bc1-a074dc620abd"
      },
      "outputs": [],
      "source": []
    }
  ],
  "metadata": {
    "kernelspec": {
      "display_name": "Python 3 (ipykernel)",
      "language": "python",
      "name": "python3"
    },
    "language_info": {
      "codemirror_mode": {
        "name": "ipython",
        "version": 3
      },
      "file_extension": ".py",
      "mimetype": "text/x-python",
      "name": "python",
      "nbconvert_exporter": "python",
      "pygments_lexer": "ipython3",
      "version": "3.12.3"
    },
    "colab": {
      "provenance": []
    }
  },
  "nbformat": 4,
  "nbformat_minor": 5
}